{
 "cells": [
  {
   "cell_type": "markdown",
   "id": "9a130c4a",
   "metadata": {},
   "source": [
    "<h1><center><font size=\"10\">Bangalore Restaurants Prediction</font></center></h1>\n",
    "<center><img src=\"https://encrypted-tbn0.gstatic.com/images?q=tbn:ANd9GcTg5mf22tNV3H52cyyZocxRgF_O0_FHYTi6IQ&usqp=CAU\" width=\"700\"></img></center>"
   ]
  },
  {
   "cell_type": "markdown",
   "id": "389992aa",
   "metadata": {},
   "source": [
    "### Import pandas, numpy and visualization packages"
   ]
  },
  {
   "cell_type": "code",
   "execution_count": 298,
   "id": "8b02a5f7",
   "metadata": {},
   "outputs": [],
   "source": [
    "# pandas to read and analysis\n",
    "import pandas as pd\n",
    "# for numberical calculations\n",
    "import numpy as np\n",
    "# for data visualization\n",
    "import matplotlib.pyplot as plt\n",
    "# for data visualization\n",
    "import seaborn as sns"
   ]
  },
  {
   "cell_type": "markdown",
   "id": "8b739726",
   "metadata": {},
   "source": [
    "# Read and PreProccessing"
   ]
  },
  {
   "cell_type": "code",
   "execution_count": 299,
   "id": "4d362633",
   "metadata": {},
   "outputs": [],
   "source": [
    "# Load and read data\n",
    "df = pd.read_csv(\"zomato.csv\")"
   ]
  },
  {
   "cell_type": "code",
   "execution_count": 300,
   "id": "8eb964db",
   "metadata": {},
   "outputs": [
    {
     "name": "stdout",
     "output_type": "stream",
     "text": [
      "<class 'pandas.core.frame.DataFrame'>\n",
      "RangeIndex: 51717 entries, 0 to 51716\n",
      "Data columns (total 17 columns):\n",
      " #   Column                       Non-Null Count  Dtype \n",
      "---  ------                       --------------  ----- \n",
      " 0   url                          51717 non-null  object\n",
      " 1   address                      51717 non-null  object\n",
      " 2   name                         51717 non-null  object\n",
      " 3   online_order                 51717 non-null  object\n",
      " 4   book_table                   51717 non-null  object\n",
      " 5   rate                         43942 non-null  object\n",
      " 6   votes                        51717 non-null  int64 \n",
      " 7   phone                        50509 non-null  object\n",
      " 8   location                     51696 non-null  object\n",
      " 9   rest_type                    51490 non-null  object\n",
      " 10  dish_liked                   23639 non-null  object\n",
      " 11  cuisines                     51672 non-null  object\n",
      " 12  approx_cost(for two people)  51371 non-null  object\n",
      " 13  reviews_list                 51717 non-null  object\n",
      " 14  menu_item                    51717 non-null  object\n",
      " 15  listed_in(type)              51717 non-null  object\n",
      " 16  listed_in(city)              51717 non-null  object\n",
      "dtypes: int64(1), object(16)\n",
      "memory usage: 6.7+ MB\n"
     ]
    }
   ],
   "source": [
    "# Column informations\n",
    "df.info()"
   ]
  },
  {
   "cell_type": "code",
   "execution_count": 301,
   "id": "5547623f",
   "metadata": {},
   "outputs": [
    {
     "data": {
      "text/html": [
       "<div>\n",
       "<style scoped>\n",
       "    .dataframe tbody tr th:only-of-type {\n",
       "        vertical-align: middle;\n",
       "    }\n",
       "\n",
       "    .dataframe tbody tr th {\n",
       "        vertical-align: top;\n",
       "    }\n",
       "\n",
       "    .dataframe thead th {\n",
       "        text-align: right;\n",
       "    }\n",
       "</style>\n",
       "<table border=\"1\" class=\"dataframe\">\n",
       "  <thead>\n",
       "    <tr style=\"text-align: right;\">\n",
       "      <th></th>\n",
       "      <th>votes</th>\n",
       "    </tr>\n",
       "  </thead>\n",
       "  <tbody>\n",
       "    <tr>\n",
       "      <th>count</th>\n",
       "      <td>51717.00</td>\n",
       "    </tr>\n",
       "    <tr>\n",
       "      <th>mean</th>\n",
       "      <td>283.70</td>\n",
       "    </tr>\n",
       "    <tr>\n",
       "      <th>std</th>\n",
       "      <td>803.84</td>\n",
       "    </tr>\n",
       "    <tr>\n",
       "      <th>min</th>\n",
       "      <td>0.00</td>\n",
       "    </tr>\n",
       "    <tr>\n",
       "      <th>25%</th>\n",
       "      <td>7.00</td>\n",
       "    </tr>\n",
       "    <tr>\n",
       "      <th>50%</th>\n",
       "      <td>41.00</td>\n",
       "    </tr>\n",
       "    <tr>\n",
       "      <th>75%</th>\n",
       "      <td>198.00</td>\n",
       "    </tr>\n",
       "    <tr>\n",
       "      <th>max</th>\n",
       "      <td>16832.00</td>\n",
       "    </tr>\n",
       "  </tbody>\n",
       "</table>\n",
       "</div>"
      ],
      "text/plain": [
       "         votes\n",
       "count 51717.00\n",
       "mean    283.70\n",
       "std     803.84\n",
       "min       0.00\n",
       "25%       7.00\n",
       "50%      41.00\n",
       "75%     198.00\n",
       "max   16832.00"
      ]
     },
     "execution_count": 301,
     "metadata": {},
     "output_type": "execute_result"
    }
   ],
   "source": [
    "# quick statistical describe all numerical columns\n",
    "df.describe()"
   ]
  },
  {
   "cell_type": "code",
   "execution_count": 302,
   "id": "9a1d0814",
   "metadata": {},
   "outputs": [
    {
     "data": {
      "text/html": [
       "<div>\n",
       "<style scoped>\n",
       "    .dataframe tbody tr th:only-of-type {\n",
       "        vertical-align: middle;\n",
       "    }\n",
       "\n",
       "    .dataframe tbody tr th {\n",
       "        vertical-align: top;\n",
       "    }\n",
       "\n",
       "    .dataframe thead th {\n",
       "        text-align: right;\n",
       "    }\n",
       "</style>\n",
       "<table border=\"1\" class=\"dataframe\">\n",
       "  <thead>\n",
       "    <tr style=\"text-align: right;\">\n",
       "      <th></th>\n",
       "      <th>url</th>\n",
       "      <th>address</th>\n",
       "      <th>name</th>\n",
       "      <th>online_order</th>\n",
       "      <th>book_table</th>\n",
       "      <th>rate</th>\n",
       "      <th>votes</th>\n",
       "      <th>phone</th>\n",
       "      <th>location</th>\n",
       "      <th>rest_type</th>\n",
       "      <th>dish_liked</th>\n",
       "      <th>cuisines</th>\n",
       "      <th>approx_cost(for two people)</th>\n",
       "      <th>reviews_list</th>\n",
       "      <th>menu_item</th>\n",
       "      <th>listed_in(type)</th>\n",
       "      <th>listed_in(city)</th>\n",
       "    </tr>\n",
       "  </thead>\n",
       "  <tbody>\n",
       "    <tr>\n",
       "      <th>0</th>\n",
       "      <td>https://www.zomato.com/bangalore/jalsa-banasha...</td>\n",
       "      <td>942, 21st Main Road, 2nd Stage, Banashankari, ...</td>\n",
       "      <td>Jalsa</td>\n",
       "      <td>Yes</td>\n",
       "      <td>Yes</td>\n",
       "      <td>4.1/5</td>\n",
       "      <td>775</td>\n",
       "      <td>080 42297555\\r\\n+91 9743772233</td>\n",
       "      <td>Banashankari</td>\n",
       "      <td>Casual Dining</td>\n",
       "      <td>Pasta, Lunch Buffet, Masala Papad, Paneer Laja...</td>\n",
       "      <td>North Indian, Mughlai, Chinese</td>\n",
       "      <td>800</td>\n",
       "      <td>[('Rated 4.0', 'RATED\\n  A beautiful place to ...</td>\n",
       "      <td>[]</td>\n",
       "      <td>Buffet</td>\n",
       "      <td>Banashankari</td>\n",
       "    </tr>\n",
       "    <tr>\n",
       "      <th>1</th>\n",
       "      <td>https://www.zomato.com/bangalore/spice-elephan...</td>\n",
       "      <td>2nd Floor, 80 Feet Road, Near Big Bazaar, 6th ...</td>\n",
       "      <td>Spice Elephant</td>\n",
       "      <td>Yes</td>\n",
       "      <td>No</td>\n",
       "      <td>4.1/5</td>\n",
       "      <td>787</td>\n",
       "      <td>080 41714161</td>\n",
       "      <td>Banashankari</td>\n",
       "      <td>Casual Dining</td>\n",
       "      <td>Momos, Lunch Buffet, Chocolate Nirvana, Thai G...</td>\n",
       "      <td>Chinese, North Indian, Thai</td>\n",
       "      <td>800</td>\n",
       "      <td>[('Rated 4.0', 'RATED\\n  Had been here for din...</td>\n",
       "      <td>[]</td>\n",
       "      <td>Buffet</td>\n",
       "      <td>Banashankari</td>\n",
       "    </tr>\n",
       "    <tr>\n",
       "      <th>2</th>\n",
       "      <td>https://www.zomato.com/SanchurroBangalore?cont...</td>\n",
       "      <td>1112, Next to KIMS Medical College, 17th Cross...</td>\n",
       "      <td>San Churro Cafe</td>\n",
       "      <td>Yes</td>\n",
       "      <td>No</td>\n",
       "      <td>3.8/5</td>\n",
       "      <td>918</td>\n",
       "      <td>+91 9663487993</td>\n",
       "      <td>Banashankari</td>\n",
       "      <td>Cafe, Casual Dining</td>\n",
       "      <td>Churros, Cannelloni, Minestrone Soup, Hot Choc...</td>\n",
       "      <td>Cafe, Mexican, Italian</td>\n",
       "      <td>800</td>\n",
       "      <td>[('Rated 3.0', \"RATED\\n  Ambience is not that ...</td>\n",
       "      <td>[]</td>\n",
       "      <td>Buffet</td>\n",
       "      <td>Banashankari</td>\n",
       "    </tr>\n",
       "    <tr>\n",
       "      <th>3</th>\n",
       "      <td>https://www.zomato.com/bangalore/addhuri-udupi...</td>\n",
       "      <td>1st Floor, Annakuteera, 3rd Stage, Banashankar...</td>\n",
       "      <td>Addhuri Udupi Bhojana</td>\n",
       "      <td>No</td>\n",
       "      <td>No</td>\n",
       "      <td>3.7/5</td>\n",
       "      <td>88</td>\n",
       "      <td>+91 9620009302</td>\n",
       "      <td>Banashankari</td>\n",
       "      <td>Quick Bites</td>\n",
       "      <td>Masala Dosa</td>\n",
       "      <td>South Indian, North Indian</td>\n",
       "      <td>300</td>\n",
       "      <td>[('Rated 4.0', \"RATED\\n  Great food and proper...</td>\n",
       "      <td>[]</td>\n",
       "      <td>Buffet</td>\n",
       "      <td>Banashankari</td>\n",
       "    </tr>\n",
       "    <tr>\n",
       "      <th>4</th>\n",
       "      <td>https://www.zomato.com/bangalore/grand-village...</td>\n",
       "      <td>10, 3rd Floor, Lakshmi Associates, Gandhi Baza...</td>\n",
       "      <td>Grand Village</td>\n",
       "      <td>No</td>\n",
       "      <td>No</td>\n",
       "      <td>3.8/5</td>\n",
       "      <td>166</td>\n",
       "      <td>+91 8026612447\\r\\n+91 9901210005</td>\n",
       "      <td>Basavanagudi</td>\n",
       "      <td>Casual Dining</td>\n",
       "      <td>Panipuri, Gol Gappe</td>\n",
       "      <td>North Indian, Rajasthani</td>\n",
       "      <td>600</td>\n",
       "      <td>[('Rated 4.0', 'RATED\\n  Very good restaurant ...</td>\n",
       "      <td>[]</td>\n",
       "      <td>Buffet</td>\n",
       "      <td>Banashankari</td>\n",
       "    </tr>\n",
       "  </tbody>\n",
       "</table>\n",
       "</div>"
      ],
      "text/plain": [
       "                                                 url  \\\n",
       "0  https://www.zomato.com/bangalore/jalsa-banasha...   \n",
       "1  https://www.zomato.com/bangalore/spice-elephan...   \n",
       "2  https://www.zomato.com/SanchurroBangalore?cont...   \n",
       "3  https://www.zomato.com/bangalore/addhuri-udupi...   \n",
       "4  https://www.zomato.com/bangalore/grand-village...   \n",
       "\n",
       "                                             address                   name  \\\n",
       "0  942, 21st Main Road, 2nd Stage, Banashankari, ...                  Jalsa   \n",
       "1  2nd Floor, 80 Feet Road, Near Big Bazaar, 6th ...         Spice Elephant   \n",
       "2  1112, Next to KIMS Medical College, 17th Cross...        San Churro Cafe   \n",
       "3  1st Floor, Annakuteera, 3rd Stage, Banashankar...  Addhuri Udupi Bhojana   \n",
       "4  10, 3rd Floor, Lakshmi Associates, Gandhi Baza...          Grand Village   \n",
       "\n",
       "  online_order book_table   rate  votes                             phone  \\\n",
       "0          Yes        Yes  4.1/5    775    080 42297555\\r\\n+91 9743772233   \n",
       "1          Yes         No  4.1/5    787                      080 41714161   \n",
       "2          Yes         No  3.8/5    918                    +91 9663487993   \n",
       "3           No         No  3.7/5     88                    +91 9620009302   \n",
       "4           No         No  3.8/5    166  +91 8026612447\\r\\n+91 9901210005   \n",
       "\n",
       "       location            rest_type  \\\n",
       "0  Banashankari        Casual Dining   \n",
       "1  Banashankari        Casual Dining   \n",
       "2  Banashankari  Cafe, Casual Dining   \n",
       "3  Banashankari          Quick Bites   \n",
       "4  Basavanagudi        Casual Dining   \n",
       "\n",
       "                                          dish_liked  \\\n",
       "0  Pasta, Lunch Buffet, Masala Papad, Paneer Laja...   \n",
       "1  Momos, Lunch Buffet, Chocolate Nirvana, Thai G...   \n",
       "2  Churros, Cannelloni, Minestrone Soup, Hot Choc...   \n",
       "3                                        Masala Dosa   \n",
       "4                                Panipuri, Gol Gappe   \n",
       "\n",
       "                         cuisines approx_cost(for two people)  \\\n",
       "0  North Indian, Mughlai, Chinese                         800   \n",
       "1     Chinese, North Indian, Thai                         800   \n",
       "2          Cafe, Mexican, Italian                         800   \n",
       "3      South Indian, North Indian                         300   \n",
       "4        North Indian, Rajasthani                         600   \n",
       "\n",
       "                                        reviews_list menu_item  \\\n",
       "0  [('Rated 4.0', 'RATED\\n  A beautiful place to ...        []   \n",
       "1  [('Rated 4.0', 'RATED\\n  Had been here for din...        []   \n",
       "2  [('Rated 3.0', \"RATED\\n  Ambience is not that ...        []   \n",
       "3  [('Rated 4.0', \"RATED\\n  Great food and proper...        []   \n",
       "4  [('Rated 4.0', 'RATED\\n  Very good restaurant ...        []   \n",
       "\n",
       "  listed_in(type) listed_in(city)  \n",
       "0          Buffet    Banashankari  \n",
       "1          Buffet    Banashankari  \n",
       "2          Buffet    Banashankari  \n",
       "3          Buffet    Banashankari  \n",
       "4          Buffet    Banashankari  "
      ]
     },
     "execution_count": 302,
     "metadata": {},
     "output_type": "execute_result"
    }
   ],
   "source": [
    "df.head()"
   ]
  },
  {
   "cell_type": "code",
   "execution_count": 303,
   "id": "6ec71cd0",
   "metadata": {},
   "outputs": [],
   "source": [
    "# drop all blanks rows where all columns are blanks data\n",
    "df = df.dropna(how = \"all\",axis = 0)"
   ]
  },
  {
   "cell_type": "code",
   "execution_count": 304,
   "id": "55a94d65",
   "metadata": {},
   "outputs": [
    {
     "data": {
      "text/plain": [
       "Index(['url', 'address', 'name', 'online_order', 'book_table', 'rate', 'votes',\n",
       "       'phone', 'location', 'rest_type', 'dish_liked', 'cuisines',\n",
       "       'approx_cost(for two people)', 'reviews_list', 'menu_item',\n",
       "       'listed_in(type)', 'listed_in(city)'],\n",
       "      dtype='object')"
      ]
     },
     "execution_count": 304,
     "metadata": {},
     "output_type": "execute_result"
    }
   ],
   "source": [
    "# check columns name\n",
    "df.columns"
   ]
  },
  {
   "cell_type": "code",
   "execution_count": 305,
   "id": "adb09546",
   "metadata": {},
   "outputs": [
    {
     "data": {
      "text/plain": [
       "url                            0.00\n",
       "address                        0.00\n",
       "name                           0.00\n",
       "online_order                   0.00\n",
       "book_table                     0.00\n",
       "rate                          15.03\n",
       "votes                          0.00\n",
       "phone                          2.34\n",
       "location                       0.04\n",
       "rest_type                      0.44\n",
       "dish_liked                    54.29\n",
       "cuisines                       0.09\n",
       "approx_cost(for two people)    0.67\n",
       "reviews_list                   0.00\n",
       "menu_item                      0.00\n",
       "listed_in(type)                0.00\n",
       "listed_in(city)                0.00\n",
       "dtype: float64"
      ]
     },
     "execution_count": 305,
     "metadata": {},
     "output_type": "execute_result"
    }
   ],
   "source": [
    "# show percentage of blank data for each columns\n",
    "(df.isna().mean()) *100"
   ]
  },
  {
   "cell_type": "markdown",
   "id": "227968a5",
   "metadata": {},
   "source": [
    "##### based on percentage of <span style=\"color:red\">(dish_liked) column</span> over 50% is blank data so dropping all column will not affect result for our target."
   ]
  },
  {
   "cell_type": "code",
   "execution_count": 306,
   "id": "02d96621",
   "metadata": {},
   "outputs": [],
   "source": [
    "# Drop dish_liked columns as over 50% is blanks data\n",
    "df = df.drop(columns = [\"dish_liked\"],axis = 1)"
   ]
  },
  {
   "cell_type": "markdown",
   "id": "b89f7ea1",
   "metadata": {},
   "source": [
    "##### for columns [<span style=\"color:red\">approx_cost(for two people),cuisines,rest_type,location,phone</span>] max percentage of missing data for these columns is less than 3% so dropping rows for these columns and for name column it does not affect rate as there are many restaurants under same name in different locations with different rates"
   ]
  },
  {
   "cell_type": "code",
   "execution_count": 307,
   "id": "d4df26be",
   "metadata": {},
   "outputs": [],
   "source": [
    "df = df.dropna(subset = ['approx_cost(for two people)',\"cuisines\",\n",
    "                        \"rest_type\",\"location\",\"phone\"],how = \"any\",axis = 0)"
   ]
  },
  {
   "cell_type": "code",
   "execution_count": 308,
   "id": "be2dd9d3",
   "metadata": {},
   "outputs": [
    {
     "data": {
      "text/plain": [
       "url                            0.00\n",
       "address                        0.00\n",
       "name                           0.00\n",
       "online_order                   0.00\n",
       "book_table                     0.00\n",
       "rate                          14.59\n",
       "votes                          0.00\n",
       "phone                          0.00\n",
       "location                       0.00\n",
       "rest_type                      0.00\n",
       "cuisines                       0.00\n",
       "approx_cost(for two people)    0.00\n",
       "reviews_list                   0.00\n",
       "menu_item                      0.00\n",
       "listed_in(type)                0.00\n",
       "listed_in(city)                0.00\n",
       "dtype: float64"
      ]
     },
     "execution_count": 308,
     "metadata": {},
     "output_type": "execute_result"
    }
   ],
   "source": [
    "# check blank data for each columns after dropping specified columns\n",
    "(df.isna().mean()) *100"
   ]
  },
  {
   "cell_type": "code",
   "execution_count": null,
   "id": "25544609",
   "metadata": {},
   "outputs": [],
   "source": []
  },
  {
   "cell_type": "markdown",
   "id": "29b56173",
   "metadata": {},
   "source": [
    "### got the actual rate by removing (/5) char, and based on condition rate over or equal to 3.7 will be classified as (1) otherwise will be classified as (0)."
   ]
  },
  {
   "cell_type": "code",
   "execution_count": 309,
   "id": "13fb238e",
   "metadata": {},
   "outputs": [
    {
     "data": {
      "text/plain": [
       "1   61.56\n",
       "0   38.44\n",
       "Name: rate, dtype: float64"
      ]
     },
     "execution_count": 309,
     "metadata": {},
     "output_type": "execute_result"
    }
   ],
   "source": [
    "df['rate'] = df['rate'].astype(str).str.replace('/5', '').astype(str).str.replace(\"NEW\",\"0\")\n",
    "df['rate'] = df['rate'].apply(lambda x:1 if x >= \"3.7\" else 0)\n",
    "(df[\"rate\"].value_counts())/len(df) * 100"
   ]
  },
  {
   "cell_type": "code",
   "execution_count": 310,
   "id": "a02d2458",
   "metadata": {},
   "outputs": [
    {
     "data": {
      "text/plain": [
       "url                            object\n",
       "address                        object\n",
       "name                           object\n",
       "online_order                   object\n",
       "book_table                     object\n",
       "rate                            int64\n",
       "votes                           int64\n",
       "phone                          object\n",
       "location                       object\n",
       "rest_type                      object\n",
       "cuisines                       object\n",
       "approx_cost(for two people)    object\n",
       "reviews_list                   object\n",
       "menu_item                      object\n",
       "listed_in(type)                object\n",
       "listed_in(city)                object\n",
       "dtype: object"
      ]
     },
     "execution_count": 310,
     "metadata": {},
     "output_type": "execute_result"
    }
   ],
   "source": [
    "# check columns data types\n",
    "df.dtypes"
   ]
  },
  {
   "cell_type": "code",
   "execution_count": 311,
   "id": "335f4d1b",
   "metadata": {},
   "outputs": [],
   "source": [
    "# Convert cost to numerical column as all data included is numbers\n",
    "df['approx_cost(for two people)'] = df['approx_cost(for two people)'].str.replace(\",\",\"\").astype(float)"
   ]
  },
  {
   "cell_type": "code",
   "execution_count": 312,
   "id": "bac76b9e",
   "metadata": {},
   "outputs": [],
   "source": [
    "# drop reviews_list column as it repeated data and avg of all reviews for each resturant already have been taken in rate column.\n",
    "# drop menu_item column as only includes an empty list\n",
    "df = df.drop(columns = [\"reviews_list\",\"menu_item\"],axis = 1)"
   ]
  },
  {
   "cell_type": "code",
   "execution_count": null,
   "id": "83568728",
   "metadata": {},
   "outputs": [],
   "source": []
  },
  {
   "cell_type": "markdown",
   "id": "f76a7018",
   "metadata": {},
   "source": [
    "# Visualization"
   ]
  },
  {
   "cell_type": "markdown",
   "id": "e590cf63",
   "metadata": {},
   "source": [
    "###### according to below count status it seems that data is imbalanced but we gonna dealt with it after."
   ]
  },
  {
   "cell_type": "code",
   "execution_count": 313,
   "id": "b86286fd",
   "metadata": {},
   "outputs": [
    {
     "data": {
      "text/plain": [
       "<AxesSubplot:xlabel='rate', ylabel='count'>"
      ]
     },
     "execution_count": 313,
     "metadata": {},
     "output_type": "execute_result"
    },
    {
     "data": {
      "image/png": "[encoded data removed]",
      "text/plain": [
       "<Figure size 640x480 with 1 Axes>"
      ]
     },
     "metadata": {},
     "output_type": "display_data"
    }
   ],
   "source": [
    "sns.countplot(data = df,x = df[\"rate\"])"
   ]
  },
  {
   "cell_type": "markdown",
   "id": "8e11f7f6",
   "metadata": {},
   "source": [
    "## How does (online order & booking table) availability affects customer rate?\n",
    "#### from figure below vailability of online order and online booking table does not affect too much for customer satisfaction so, does not affect customer rate that much, but it's important to be found in our process as availability of one option gets higher rates for restaurants"
   ]
  },
  {
   "cell_type": "code",
   "execution_count": 314,
   "id": "c0913361",
   "metadata": {},
   "outputs": [
    {
     "data": {
      "text/plain": [
       "Text(0.5, 1.0, 'Count availability of booking online and booking table based on customer rate')"
      ]
     },
     "execution_count": 314,
     "metadata": {},
     "output_type": "execute_result"
    },
    {
     "data": {
      "image/png": "[encoded data removed]",
      "text/plain": [
       "<Figure size 1500x1500 with 1 Axes>"
      ]
     },
     "metadata": {},
     "output_type": "display_data"
    }
   ],
   "source": [
    "plt.figure(figsize=(15,15))\n",
    "df.groupby([\"online_order\",\"book_table\",\"rate\"])[\"rate\"].count().plot(kind = \"bar\")\n",
    "plt.title(\"Count availability of booking online and booking table based on customer rate\")"
   ]
  },
  {
   "cell_type": "markdown",
   "id": "230e0a85",
   "metadata": {},
   "source": [
    "### does restaurant name affect castomer rate no matter placed locations?\n",
    "###### by filtiering and check top 5 restaurants that has more than one place, restaurant name does not affect that much for customer rate."
   ]
  },
  {
   "cell_type": "code",
   "execution_count": 315,
   "id": "74844fcb",
   "metadata": {},
   "outputs": [
    {
     "data": {
      "text/plain": [
       "Cafe Coffee Day            89\n",
       "Onesta                     85\n",
       "Just Bake                  73\n",
       "Empire Restaurant          71\n",
       "Kanti Sweets               68\n",
       "                           ..\n",
       "Spicy Fingers               1\n",
       "Kusum Restaurant            1\n",
       "Hotel Fish Land             1\n",
       "Hyderabadi Biryaani Hub     1\n",
       "SeeYa Restaurant            1\n",
       "Name: name, Length: 8612, dtype: int64"
      ]
     },
     "execution_count": 315,
     "metadata": {},
     "output_type": "execute_result"
    }
   ],
   "source": [
    "# Count restaurants name frequency around all areas\n",
    "df[\"name\"].value_counts()"
   ]
  },
  {
   "cell_type": "code",
   "execution_count": 316,
   "id": "68b2d67a",
   "metadata": {},
   "outputs": [
    {
     "data": {
      "text/html": [
       "<div>\n",
       "<style scoped>\n",
       "    .dataframe tbody tr th:only-of-type {\n",
       "        vertical-align: middle;\n",
       "    }\n",
       "\n",
       "    .dataframe tbody tr th {\n",
       "        vertical-align: top;\n",
       "    }\n",
       "\n",
       "    .dataframe thead th {\n",
       "        text-align: right;\n",
       "    }\n",
       "</style>\n",
       "<table border=\"1\" class=\"dataframe\">\n",
       "  <thead>\n",
       "    <tr style=\"text-align: right;\">\n",
       "      <th></th>\n",
       "      <th>url</th>\n",
       "      <th>address</th>\n",
       "      <th>name</th>\n",
       "      <th>online_order</th>\n",
       "      <th>book_table</th>\n",
       "      <th>rate</th>\n",
       "      <th>votes</th>\n",
       "      <th>phone</th>\n",
       "      <th>location</th>\n",
       "      <th>rest_type</th>\n",
       "      <th>cuisines</th>\n",
       "      <th>approx_cost(for two people)</th>\n",
       "      <th>listed_in(type)</th>\n",
       "      <th>listed_in(city)</th>\n",
       "    </tr>\n",
       "  </thead>\n",
       "  <tbody>\n",
       "    <tr>\n",
       "      <th>7</th>\n",
       "      <td>https://www.zomato.com/bangalore/onesta-banash...</td>\n",
       "      <td>2469, 3rd Floor, 24th Cross, Opposite BDA Comp...</td>\n",
       "      <td>Onesta</td>\n",
       "      <td>Yes</td>\n",
       "      <td>Yes</td>\n",
       "      <td>1</td>\n",
       "      <td>2556</td>\n",
       "      <td>080 48653961\\r\\n080 48655715</td>\n",
       "      <td>Banashankari</td>\n",
       "      <td>Casual Dining, Cafe</td>\n",
       "      <td>Pizza, Cafe, Italian</td>\n",
       "      <td>600.00</td>\n",
       "      <td>Cafes</td>\n",
       "      <td>Banashankari</td>\n",
       "    </tr>\n",
       "    <tr>\n",
       "      <th>22</th>\n",
       "      <td>https://www.zomato.com/bangalore/cafe-coffee-d...</td>\n",
       "      <td>SRF Complex, Near BDA Complex, Kathreguppe Mai...</td>\n",
       "      <td>Cafe Coffee Day</td>\n",
       "      <td>No</td>\n",
       "      <td>No</td>\n",
       "      <td>0</td>\n",
       "      <td>28</td>\n",
       "      <td>080 32486296</td>\n",
       "      <td>Banashankari</td>\n",
       "      <td>Cafe</td>\n",
       "      <td>Cafe, Fast Food</td>\n",
       "      <td>900.00</td>\n",
       "      <td>Cafes</td>\n",
       "      <td>Banashankari</td>\n",
       "    </tr>\n",
       "  </tbody>\n",
       "</table>\n",
       "</div>"
      ],
      "text/plain": [
       "                                                  url  \\\n",
       "7   https://www.zomato.com/bangalore/onesta-banash...   \n",
       "22  https://www.zomato.com/bangalore/cafe-coffee-d...   \n",
       "\n",
       "                                              address             name  \\\n",
       "7   2469, 3rd Floor, 24th Cross, Opposite BDA Comp...           Onesta   \n",
       "22  SRF Complex, Near BDA Complex, Kathreguppe Mai...  Cafe Coffee Day   \n",
       "\n",
       "   online_order book_table  rate  votes                         phone  \\\n",
       "7           Yes        Yes     1   2556  080 48653961\\r\\n080 48655715   \n",
       "22           No         No     0     28                  080 32486296   \n",
       "\n",
       "        location            rest_type              cuisines  \\\n",
       "7   Banashankari  Casual Dining, Cafe  Pizza, Cafe, Italian   \n",
       "22  Banashankari                 Cafe       Cafe, Fast Food   \n",
       "\n",
       "    approx_cost(for two people) listed_in(type) listed_in(city)  \n",
       "7                        600.00           Cafes    Banashankari  \n",
       "22                       900.00           Cafes    Banashankari  "
      ]
     },
     "execution_count": 316,
     "metadata": {},
     "output_type": "execute_result"
    }
   ],
   "source": [
    "# filted data for top 15 restaurans that has more than one place\n",
    "TOP5_name_df = df[df[\"name\"].isin(df[\"name\"].value_counts().sort_values(ascending = False).head(5).index)]\n",
    "TOP5_name_df.head(2)"
   ]
  },
  {
   "cell_type": "code",
   "execution_count": 317,
   "id": "64464306",
   "metadata": {},
   "outputs": [
    {
     "data": {
      "text/plain": [
       "<AxesSubplot:ylabel='rate'>"
      ]
     },
     "execution_count": 317,
     "metadata": {},
     "output_type": "execute_result"
    },
    {
     "data": {
      "image/png": "[encoded data removed]",
      "text/plain": [
       "<Figure size 1000x1000 with 1 Axes>"
      ]
     },
     "metadata": {},
     "output_type": "display_data"
    }
   ],
   "source": [
    "# check how does restaurant name affect castomer satisfication no matter where it open.\n",
    "TOP5_name_df.groupby([\"name\",\"rate\"])[\"rate\"].count().plot(kind = \"pie\",figsize=(10,10),legend = True,autopct='%1.1f%%')"
   ]
  },
  {
   "cell_type": "markdown",
   "id": "64b213b2",
   "metadata": {},
   "source": [
    "### does Customer name and location affects rate?\n",
    "##### according to below grouping check for more than one restaurant [restaurant name,locations] most of time affect customer rates."
   ]
  },
  {
   "cell_type": "code",
   "execution_count": 318,
   "id": "5672e9d0",
   "metadata": {},
   "outputs": [
    {
     "data": {
      "text/html": [
       "<div>\n",
       "<style scoped>\n",
       "    .dataframe tbody tr th:only-of-type {\n",
       "        vertical-align: middle;\n",
       "    }\n",
       "\n",
       "    .dataframe tbody tr th {\n",
       "        vertical-align: top;\n",
       "    }\n",
       "\n",
       "    .dataframe thead th {\n",
       "        text-align: right;\n",
       "    }\n",
       "</style>\n",
       "<table border=\"1\" class=\"dataframe\">\n",
       "  <thead>\n",
       "    <tr style=\"text-align: right;\">\n",
       "      <th></th>\n",
       "      <th></th>\n",
       "      <th></th>\n",
       "      <th>rate</th>\n",
       "    </tr>\n",
       "    <tr>\n",
       "      <th>name</th>\n",
       "      <th>location</th>\n",
       "      <th>rate</th>\n",
       "      <th></th>\n",
       "    </tr>\n",
       "  </thead>\n",
       "  <tbody>\n",
       "    <tr>\n",
       "      <th rowspan=\"5\" valign=\"top\">Cafe Coffee Day</th>\n",
       "      <th>BTM</th>\n",
       "      <th>0</th>\n",
       "      <td>3</td>\n",
       "    </tr>\n",
       "    <tr>\n",
       "      <th rowspan=\"2\" valign=\"top\">Banashankari</th>\n",
       "      <th>0</th>\n",
       "      <td>3</td>\n",
       "    </tr>\n",
       "    <tr>\n",
       "      <th>1</th>\n",
       "      <td>1</td>\n",
       "    </tr>\n",
       "    <tr>\n",
       "      <th rowspan=\"2\" valign=\"top\">Bannerghatta Road</th>\n",
       "      <th>0</th>\n",
       "      <td>2</td>\n",
       "    </tr>\n",
       "    <tr>\n",
       "      <th>1</th>\n",
       "      <td>4</td>\n",
       "    </tr>\n",
       "    <tr>\n",
       "      <th>...</th>\n",
       "      <th>...</th>\n",
       "      <th>...</th>\n",
       "      <td>...</td>\n",
       "    </tr>\n",
       "    <tr>\n",
       "      <th rowspan=\"5\" valign=\"top\">Onesta</th>\n",
       "      <th>Kammanahalli</th>\n",
       "      <th>1</th>\n",
       "      <td>6</td>\n",
       "    </tr>\n",
       "    <tr>\n",
       "      <th>Koramangala 4th Block</th>\n",
       "      <th>1</th>\n",
       "      <td>19</td>\n",
       "    </tr>\n",
       "    <tr>\n",
       "      <th>Marathahalli</th>\n",
       "      <th>1</th>\n",
       "      <td>4</td>\n",
       "    </tr>\n",
       "    <tr>\n",
       "      <th>New BEL Road</th>\n",
       "      <th>1</th>\n",
       "      <td>4</td>\n",
       "    </tr>\n",
       "    <tr>\n",
       "      <th>Whitefield</th>\n",
       "      <th>1</th>\n",
       "      <td>3</td>\n",
       "    </tr>\n",
       "  </tbody>\n",
       "</table>\n",
       "<p>95 rows × 1 columns</p>\n",
       "</div>"
      ],
      "text/plain": [
       "                                            rate\n",
       "name            location              rate      \n",
       "Cafe Coffee Day BTM                   0        3\n",
       "                Banashankari          0        3\n",
       "                                      1        1\n",
       "                Bannerghatta Road     0        2\n",
       "                                      1        4\n",
       "...                                          ...\n",
       "Onesta          Kammanahalli          1        6\n",
       "                Koramangala 4th Block 1       19\n",
       "                Marathahalli          1        4\n",
       "                New BEL Road          1        4\n",
       "                Whitefield            1        3\n",
       "\n",
       "[95 rows x 1 columns]"
      ]
     },
     "execution_count": 318,
     "metadata": {},
     "output_type": "execute_result"
    }
   ],
   "source": [
    "names = [\"Cafe Coffee Day\", \"Empire Restaurant\", \"Onesta\",\"Kanti Sweets\"]\n",
    "pd.DataFrame(TOP5_name_df[TOP5_name_df[\"name\"].isin(names)].groupby([\"name\",\"location\",\"rate\"])[\"rate\"].count())"
   ]
  },
  {
   "cell_type": "code",
   "execution_count": null,
   "id": "e42afbf8",
   "metadata": {},
   "outputs": [],
   "source": []
  },
  {
   "cell_type": "markdown",
   "id": "8a2a9fac",
   "metadata": {},
   "source": [
    "### below code to check how may restaurant open in each location and rates of restaurant in these locations\n",
    "\n",
    "##### this could be a good insight for whom concern to open a new restaurant in these areas by target customers what kind of food they liked more in specific area over other areas."
   ]
  },
  {
   "cell_type": "code",
   "execution_count": 321,
   "id": "53286959",
   "metadata": {},
   "outputs": [
    {
     "data": {
      "text/html": [
       "<div>\n",
       "<style scoped>\n",
       "    .dataframe tbody tr th:only-of-type {\n",
       "        vertical-align: middle;\n",
       "    }\n",
       "\n",
       "    .dataframe tbody tr th {\n",
       "        vertical-align: top;\n",
       "    }\n",
       "\n",
       "    .dataframe thead th {\n",
       "        text-align: right;\n",
       "    }\n",
       "</style>\n",
       "<table border=\"1\" class=\"dataframe\">\n",
       "  <thead>\n",
       "    <tr style=\"text-align: right;\">\n",
       "      <th></th>\n",
       "      <th>url</th>\n",
       "      <th>address</th>\n",
       "      <th>name</th>\n",
       "      <th>online_order</th>\n",
       "      <th>book_table</th>\n",
       "      <th>rate</th>\n",
       "      <th>votes</th>\n",
       "      <th>phone</th>\n",
       "      <th>location</th>\n",
       "      <th>rest_type</th>\n",
       "      <th>cuisines</th>\n",
       "      <th>approx_cost(for two people)</th>\n",
       "      <th>listed_in(type)</th>\n",
       "      <th>listed_in(city)</th>\n",
       "    </tr>\n",
       "  </thead>\n",
       "  <tbody>\n",
       "    <tr>\n",
       "      <th>0</th>\n",
       "      <td>https://www.zomato.com/bangalore/jalsa-banasha...</td>\n",
       "      <td>942, 21st Main Road, 2nd Stage, Banashankari, ...</td>\n",
       "      <td>Jalsa</td>\n",
       "      <td>Yes</td>\n",
       "      <td>Yes</td>\n",
       "      <td>1</td>\n",
       "      <td>775</td>\n",
       "      <td>080 42297555\\r\\n+91 9743772233</td>\n",
       "      <td>Banashankari</td>\n",
       "      <td>Casual Dining</td>\n",
       "      <td>North Indian, Mughlai, Chinese</td>\n",
       "      <td>800.00</td>\n",
       "      <td>Buffet</td>\n",
       "      <td>Banashankari</td>\n",
       "    </tr>\n",
       "    <tr>\n",
       "      <th>1</th>\n",
       "      <td>https://www.zomato.com/bangalore/spice-elephan...</td>\n",
       "      <td>2nd Floor, 80 Feet Road, Near Big Bazaar, 6th ...</td>\n",
       "      <td>Spice Elephant</td>\n",
       "      <td>Yes</td>\n",
       "      <td>No</td>\n",
       "      <td>1</td>\n",
       "      <td>787</td>\n",
       "      <td>080 41714161</td>\n",
       "      <td>Banashankari</td>\n",
       "      <td>Casual Dining</td>\n",
       "      <td>Chinese, North Indian, Thai</td>\n",
       "      <td>800.00</td>\n",
       "      <td>Buffet</td>\n",
       "      <td>Banashankari</td>\n",
       "    </tr>\n",
       "    <tr>\n",
       "      <th>3</th>\n",
       "      <td>https://www.zomato.com/bangalore/addhuri-udupi...</td>\n",
       "      <td>1st Floor, Annakuteera, 3rd Stage, Banashankar...</td>\n",
       "      <td>Addhuri Udupi Bhojana</td>\n",
       "      <td>No</td>\n",
       "      <td>No</td>\n",
       "      <td>1</td>\n",
       "      <td>88</td>\n",
       "      <td>+91 9620009302</td>\n",
       "      <td>Banashankari</td>\n",
       "      <td>Quick Bites</td>\n",
       "      <td>South Indian, North Indian</td>\n",
       "      <td>300.00</td>\n",
       "      <td>Buffet</td>\n",
       "      <td>Banashankari</td>\n",
       "    </tr>\n",
       "  </tbody>\n",
       "</table>\n",
       "</div>"
      ],
      "text/plain": [
       "                                                 url  \\\n",
       "0  https://www.zomato.com/bangalore/jalsa-banasha...   \n",
       "1  https://www.zomato.com/bangalore/spice-elephan...   \n",
       "3  https://www.zomato.com/bangalore/addhuri-udupi...   \n",
       "\n",
       "                                             address                   name  \\\n",
       "0  942, 21st Main Road, 2nd Stage, Banashankari, ...                  Jalsa   \n",
       "1  2nd Floor, 80 Feet Road, Near Big Bazaar, 6th ...         Spice Elephant   \n",
       "3  1st Floor, Annakuteera, 3rd Stage, Banashankar...  Addhuri Udupi Bhojana   \n",
       "\n",
       "  online_order book_table  rate  votes                           phone  \\\n",
       "0          Yes        Yes     1    775  080 42297555\\r\\n+91 9743772233   \n",
       "1          Yes         No     1    787                    080 41714161   \n",
       "3           No         No     1     88                  +91 9620009302   \n",
       "\n",
       "       location      rest_type                        cuisines  \\\n",
       "0  Banashankari  Casual Dining  North Indian, Mughlai, Chinese   \n",
       "1  Banashankari  Casual Dining     Chinese, North Indian, Thai   \n",
       "3  Banashankari    Quick Bites      South Indian, North Indian   \n",
       "\n",
       "   approx_cost(for two people) listed_in(type) listed_in(city)  \n",
       "0                       800.00          Buffet    Banashankari  \n",
       "1                       800.00          Buffet    Banashankari  \n",
       "3                       300.00          Buffet    Banashankari  "
      ]
     },
     "execution_count": 321,
     "metadata": {},
     "output_type": "execute_result"
    }
   ],
   "source": [
    "TOP10_type_df = df[df[\"rest_type\"].isin(df[\"rest_type\"].value_counts().sort_values(ascending = False).head(10).index)]\n",
    "TOP10_type_df.head(3)"
   ]
  },
  {
   "cell_type": "code",
   "execution_count": 322,
   "id": "088675fc",
   "metadata": {},
   "outputs": [
    {
     "data": {
      "text/html": [
       "<div>\n",
       "<style scoped>\n",
       "    .dataframe tbody tr th:only-of-type {\n",
       "        vertical-align: middle;\n",
       "    }\n",
       "\n",
       "    .dataframe tbody tr th {\n",
       "        vertical-align: top;\n",
       "    }\n",
       "\n",
       "    .dataframe thead th {\n",
       "        text-align: right;\n",
       "    }\n",
       "</style>\n",
       "<table border=\"1\" class=\"dataframe\">\n",
       "  <thead>\n",
       "    <tr style=\"text-align: right;\">\n",
       "      <th></th>\n",
       "      <th></th>\n",
       "      <th></th>\n",
       "      <th>rate</th>\n",
       "    </tr>\n",
       "    <tr>\n",
       "      <th>rest_type</th>\n",
       "      <th>location</th>\n",
       "      <th>rate</th>\n",
       "      <th></th>\n",
       "    </tr>\n",
       "  </thead>\n",
       "  <tbody>\n",
       "    <tr>\n",
       "      <th rowspan=\"5\" valign=\"top\">Bakery</th>\n",
       "      <th rowspan=\"2\" valign=\"top\">BTM</th>\n",
       "      <th>0</th>\n",
       "      <td>18</td>\n",
       "    </tr>\n",
       "    <tr>\n",
       "      <th>1</th>\n",
       "      <td>59</td>\n",
       "    </tr>\n",
       "    <tr>\n",
       "      <th rowspan=\"2\" valign=\"top\">Banashankari</th>\n",
       "      <th>0</th>\n",
       "      <td>10</td>\n",
       "    </tr>\n",
       "    <tr>\n",
       "      <th>1</th>\n",
       "      <td>10</td>\n",
       "    </tr>\n",
       "    <tr>\n",
       "      <th>Banaswadi</th>\n",
       "      <th>0</th>\n",
       "      <td>6</td>\n",
       "    </tr>\n",
       "    <tr>\n",
       "      <th>...</th>\n",
       "      <th>...</th>\n",
       "      <th>...</th>\n",
       "      <td>...</td>\n",
       "    </tr>\n",
       "    <tr>\n",
       "      <th rowspan=\"5\" valign=\"top\">Takeaway, Delivery</th>\n",
       "      <th>West Bangalore</th>\n",
       "      <th>0</th>\n",
       "      <td>1</td>\n",
       "    </tr>\n",
       "    <tr>\n",
       "      <th rowspan=\"2\" valign=\"top\">Whitefield</th>\n",
       "      <th>0</th>\n",
       "      <td>49</td>\n",
       "    </tr>\n",
       "    <tr>\n",
       "      <th>1</th>\n",
       "      <td>51</td>\n",
       "    </tr>\n",
       "    <tr>\n",
       "      <th rowspan=\"2\" valign=\"top\">Wilson Garden</th>\n",
       "      <th>0</th>\n",
       "      <td>3</td>\n",
       "    </tr>\n",
       "    <tr>\n",
       "      <th>1</th>\n",
       "      <td>3</td>\n",
       "    </tr>\n",
       "  </tbody>\n",
       "</table>\n",
       "<p>1063 rows × 1 columns</p>\n",
       "</div>"
      ],
      "text/plain": [
       "                                        rate\n",
       "rest_type          location       rate      \n",
       "Bakery             BTM            0       18\n",
       "                                  1       59\n",
       "                   Banashankari   0       10\n",
       "                                  1       10\n",
       "                   Banaswadi      0        6\n",
       "...                                      ...\n",
       "Takeaway, Delivery West Bangalore 0        1\n",
       "                   Whitefield     0       49\n",
       "                                  1       51\n",
       "                   Wilson Garden  0        3\n",
       "                                  1        3\n",
       "\n",
       "[1063 rows x 1 columns]"
      ]
     },
     "execution_count": 322,
     "metadata": {},
     "output_type": "execute_result"
    }
   ],
   "source": [
    "types = [\"Bakery\",\"Casual Dining\",\"Bar\",\"Quick Bites\"]\n",
    "TOP10_type_df[\"rest_type\"].value_counts()\n",
    "pd.DataFrame(TOP10_type_df.groupby([\"rest_type\",\"location\",\"rate\"])[\"rate\"].count())"
   ]
  },
  {
   "cell_type": "code",
   "execution_count": 323,
   "id": "d0cdfa30",
   "metadata": {},
   "outputs": [
    {
     "data": {
      "text/plain": [
       "url                             object\n",
       "address                         object\n",
       "name                            object\n",
       "online_order                    object\n",
       "book_table                      object\n",
       "rate                             int64\n",
       "votes                            int64\n",
       "phone                           object\n",
       "location                        object\n",
       "rest_type                       object\n",
       "cuisines                        object\n",
       "approx_cost(for two people)    float64\n",
       "listed_in(type)                 object\n",
       "listed_in(city)                 object\n",
       "dtype: object"
      ]
     },
     "execution_count": 323,
     "metadata": {},
     "output_type": "execute_result"
    }
   ],
   "source": [
    "df.dtypes # check data types to confirm all cells are processed correctly."
   ]
  },
  {
   "cell_type": "markdown",
   "id": "81f73f9e",
   "metadata": {},
   "source": [
    "#### Convert online order & book table columns into numerical as it includes low cardinality using mapper"
   ]
  },
  {
   "cell_type": "code",
   "execution_count": 207,
   "id": "260219b7",
   "metadata": {},
   "outputs": [],
   "source": [
    "column_mappings = {\n",
    "    'online_order': {'Yes': 1, 'No': 0},\n",
    "    'book_table': {'Yes': 1, 'No': 0}  \n",
    "}\n",
    "df['online_order'] = df['online_order'].map(column_mappings['online_order'])\n",
    "df['book_table'] = df['book_table'].map(column_mappings['book_table'])"
   ]
  },
  {
   "cell_type": "code",
   "execution_count": 208,
   "id": "70ed7168",
   "metadata": {},
   "outputs": [
    {
     "data": {
      "text/html": [
       "<div>\n",
       "<style scoped>\n",
       "    .dataframe tbody tr th:only-of-type {\n",
       "        vertical-align: middle;\n",
       "    }\n",
       "\n",
       "    .dataframe tbody tr th {\n",
       "        vertical-align: top;\n",
       "    }\n",
       "\n",
       "    .dataframe thead th {\n",
       "        text-align: right;\n",
       "    }\n",
       "</style>\n",
       "<table border=\"1\" class=\"dataframe\">\n",
       "  <thead>\n",
       "    <tr style=\"text-align: right;\">\n",
       "      <th></th>\n",
       "      <th>rate</th>\n",
       "    </tr>\n",
       "  </thead>\n",
       "  <tbody>\n",
       "    <tr>\n",
       "      <th>online_order</th>\n",
       "      <td>0.01</td>\n",
       "    </tr>\n",
       "    <tr>\n",
       "      <th>book_table</th>\n",
       "      <td>0.26</td>\n",
       "    </tr>\n",
       "    <tr>\n",
       "      <th>rate</th>\n",
       "      <td>1.00</td>\n",
       "    </tr>\n",
       "    <tr>\n",
       "      <th>votes</th>\n",
       "      <td>0.23</td>\n",
       "    </tr>\n",
       "    <tr>\n",
       "      <th>approx_cost(for two people)</th>\n",
       "      <td>0.23</td>\n",
       "    </tr>\n",
       "  </tbody>\n",
       "</table>\n",
       "</div>"
      ],
      "text/plain": [
       "                             rate\n",
       "online_order                 0.01\n",
       "book_table                   0.26\n",
       "rate                         1.00\n",
       "votes                        0.23\n",
       "approx_cost(for two people)  0.23"
      ]
     },
     "execution_count": 208,
     "metadata": {},
     "output_type": "execute_result"
    },
    {
     "data": {
      "image/png": "[encoded data removed]",
      "text/plain": [
       "<Figure size 640x480 with 2 Axes>"
      ]
     },
     "metadata": {},
     "output_type": "display_data"
    }
   ],
   "source": [
    "# quick check correlation between numerical columns to rate column.\n",
    "sns.heatmap(df.corr(),annot = True,cmap='coolwarm')\n",
    "pd.DataFrame(df.corr()[\"rate\"])"
   ]
  },
  {
   "cell_type": "code",
   "execution_count": 209,
   "id": "3f3e1cfc",
   "metadata": {},
   "outputs": [
    {
     "data": {
      "text/plain": [
       "url                             object\n",
       "address                         object\n",
       "name                            object\n",
       "online_order                     int64\n",
       "book_table                       int64\n",
       "rate                             int64\n",
       "votes                            int64\n",
       "phone                           object\n",
       "location                        object\n",
       "rest_type                       object\n",
       "cuisines                        object\n",
       "approx_cost(for two people)    float64\n",
       "listed_in(type)                 object\n",
       "listed_in(city)                 object\n",
       "dtype: object"
      ]
     },
     "execution_count": 209,
     "metadata": {},
     "output_type": "execute_result"
    }
   ],
   "source": [
    "df.dtypes"
   ]
  },
  {
   "cell_type": "markdown",
   "id": "059ccfa2",
   "metadata": {},
   "source": [
    "#### columns [url,address,phone] has high cardinality and approximately zero correlation with rate column so dropping them."
   ]
  },
  {
   "cell_type": "code",
   "execution_count": 210,
   "id": "3de13d50",
   "metadata": {},
   "outputs": [],
   "source": [
    "df = df.drop(columns = [\"url\",\"address\",\"phone\"])"
   ]
  },
  {
   "cell_type": "code",
   "execution_count": 211,
   "id": "0ba150ed",
   "metadata": {},
   "outputs": [],
   "source": [
    "# rename columns\n",
    "df = df.rename(columns={'approx_cost(for two people)':'Cost_for_couple', 'listed_in(type)':'Type',\"listed_in(city)\":\"city\"})"
   ]
  },
  {
   "cell_type": "code",
   "execution_count": 212,
   "id": "3efebeb7",
   "metadata": {},
   "outputs": [
    {
     "data": {
      "text/plain": [
       "name                object\n",
       "online_order         int64\n",
       "book_table           int64\n",
       "rate                 int64\n",
       "votes                int64\n",
       "location            object\n",
       "rest_type           object\n",
       "cuisines            object\n",
       "Cost_for_couple    float64\n",
       "Type                object\n",
       "city                object\n",
       "dtype: object"
      ]
     },
     "execution_count": 212,
     "metadata": {},
     "output_type": "execute_result"
    }
   ],
   "source": [
    "df.dtypes"
   ]
  },
  {
   "cell_type": "markdown",
   "id": "a28af1ea",
   "metadata": {},
   "source": [
    "#### function built to encode all categorical columns to numberical values using factorize builtin function."
   ]
  },
  {
   "cell_type": "code",
   "execution_count": 213,
   "id": "689f3a52",
   "metadata": {},
   "outputs": [
    {
     "data": {
      "text/html": [
       "<div>\n",
       "<style scoped>\n",
       "    .dataframe tbody tr th:only-of-type {\n",
       "        vertical-align: middle;\n",
       "    }\n",
       "\n",
       "    .dataframe tbody tr th {\n",
       "        vertical-align: top;\n",
       "    }\n",
       "\n",
       "    .dataframe thead th {\n",
       "        text-align: right;\n",
       "    }\n",
       "</style>\n",
       "<table border=\"1\" class=\"dataframe\">\n",
       "  <thead>\n",
       "    <tr style=\"text-align: right;\">\n",
       "      <th></th>\n",
       "      <th>name</th>\n",
       "      <th>online_order</th>\n",
       "      <th>book_table</th>\n",
       "      <th>rate</th>\n",
       "      <th>votes</th>\n",
       "      <th>location</th>\n",
       "      <th>rest_type</th>\n",
       "      <th>cuisines</th>\n",
       "      <th>Cost_for_couple</th>\n",
       "      <th>Type</th>\n",
       "      <th>city</th>\n",
       "    </tr>\n",
       "  </thead>\n",
       "  <tbody>\n",
       "    <tr>\n",
       "      <th>0</th>\n",
       "      <td>0</td>\n",
       "      <td>1</td>\n",
       "      <td>1</td>\n",
       "      <td>1</td>\n",
       "      <td>775</td>\n",
       "      <td>0</td>\n",
       "      <td>0</td>\n",
       "      <td>0</td>\n",
       "      <td>800.00</td>\n",
       "      <td>0</td>\n",
       "      <td>0</td>\n",
       "    </tr>\n",
       "    <tr>\n",
       "      <th>1</th>\n",
       "      <td>1</td>\n",
       "      <td>1</td>\n",
       "      <td>0</td>\n",
       "      <td>1</td>\n",
       "      <td>787</td>\n",
       "      <td>0</td>\n",
       "      <td>0</td>\n",
       "      <td>1</td>\n",
       "      <td>800.00</td>\n",
       "      <td>0</td>\n",
       "      <td>0</td>\n",
       "    </tr>\n",
       "    <tr>\n",
       "      <th>2</th>\n",
       "      <td>2</td>\n",
       "      <td>1</td>\n",
       "      <td>0</td>\n",
       "      <td>1</td>\n",
       "      <td>918</td>\n",
       "      <td>0</td>\n",
       "      <td>1</td>\n",
       "      <td>2</td>\n",
       "      <td>800.00</td>\n",
       "      <td>0</td>\n",
       "      <td>0</td>\n",
       "    </tr>\n",
       "    <tr>\n",
       "      <th>3</th>\n",
       "      <td>3</td>\n",
       "      <td>0</td>\n",
       "      <td>0</td>\n",
       "      <td>1</td>\n",
       "      <td>88</td>\n",
       "      <td>0</td>\n",
       "      <td>2</td>\n",
       "      <td>3</td>\n",
       "      <td>300.00</td>\n",
       "      <td>0</td>\n",
       "      <td>0</td>\n",
       "    </tr>\n",
       "    <tr>\n",
       "      <th>4</th>\n",
       "      <td>4</td>\n",
       "      <td>0</td>\n",
       "      <td>0</td>\n",
       "      <td>1</td>\n",
       "      <td>166</td>\n",
       "      <td>1</td>\n",
       "      <td>0</td>\n",
       "      <td>4</td>\n",
       "      <td>600.00</td>\n",
       "      <td>0</td>\n",
       "      <td>0</td>\n",
       "    </tr>\n",
       "    <tr>\n",
       "      <th>...</th>\n",
       "      <td>...</td>\n",
       "      <td>...</td>\n",
       "      <td>...</td>\n",
       "      <td>...</td>\n",
       "      <td>...</td>\n",
       "      <td>...</td>\n",
       "      <td>...</td>\n",
       "      <td>...</td>\n",
       "      <td>...</td>\n",
       "      <td>...</td>\n",
       "      <td>...</td>\n",
       "    </tr>\n",
       "    <tr>\n",
       "      <th>51711</th>\n",
       "      <td>2130</td>\n",
       "      <td>0</td>\n",
       "      <td>0</td>\n",
       "      <td>0</td>\n",
       "      <td>81</td>\n",
       "      <td>29</td>\n",
       "      <td>30</td>\n",
       "      <td>861</td>\n",
       "      <td>800.00</td>\n",
       "      <td>6</td>\n",
       "      <td>29</td>\n",
       "    </tr>\n",
       "    <tr>\n",
       "      <th>51712</th>\n",
       "      <td>8547</td>\n",
       "      <td>0</td>\n",
       "      <td>0</td>\n",
       "      <td>0</td>\n",
       "      <td>27</td>\n",
       "      <td>29</td>\n",
       "      <td>17</td>\n",
       "      <td>255</td>\n",
       "      <td>1500.00</td>\n",
       "      <td>6</td>\n",
       "      <td>29</td>\n",
       "    </tr>\n",
       "    <tr>\n",
       "      <th>51713</th>\n",
       "      <td>8552</td>\n",
       "      <td>0</td>\n",
       "      <td>0</td>\n",
       "      <td>1</td>\n",
       "      <td>0</td>\n",
       "      <td>29</td>\n",
       "      <td>17</td>\n",
       "      <td>254</td>\n",
       "      <td>600.00</td>\n",
       "      <td>6</td>\n",
       "      <td>29</td>\n",
       "    </tr>\n",
       "    <tr>\n",
       "      <th>51715</th>\n",
       "      <td>8608</td>\n",
       "      <td>0</td>\n",
       "      <td>1</td>\n",
       "      <td>1</td>\n",
       "      <td>236</td>\n",
       "      <td>62</td>\n",
       "      <td>17</td>\n",
       "      <td>254</td>\n",
       "      <td>2500.00</td>\n",
       "      <td>6</td>\n",
       "      <td>29</td>\n",
       "    </tr>\n",
       "    <tr>\n",
       "      <th>51716</th>\n",
       "      <td>8609</td>\n",
       "      <td>0</td>\n",
       "      <td>0</td>\n",
       "      <td>0</td>\n",
       "      <td>13</td>\n",
       "      <td>62</td>\n",
       "      <td>36</td>\n",
       "      <td>605</td>\n",
       "      <td>1500.00</td>\n",
       "      <td>6</td>\n",
       "      <td>29</td>\n",
       "    </tr>\n",
       "  </tbody>\n",
       "</table>\n",
       "<p>50279 rows × 11 columns</p>\n",
       "</div>"
      ],
      "text/plain": [
       "       name  online_order  book_table  rate  votes  location  rest_type  \\\n",
       "0         0             1           1     1    775         0          0   \n",
       "1         1             1           0     1    787         0          0   \n",
       "2         2             1           0     1    918         0          1   \n",
       "3         3             0           0     1     88         0          2   \n",
       "4         4             0           0     1    166         1          0   \n",
       "...     ...           ...         ...   ...    ...       ...        ...   \n",
       "51711  2130             0           0     0     81        29         30   \n",
       "51712  8547             0           0     0     27        29         17   \n",
       "51713  8552             0           0     1      0        29         17   \n",
       "51715  8608             0           1     1    236        62         17   \n",
       "51716  8609             0           0     0     13        62         36   \n",
       "\n",
       "       cuisines  Cost_for_couple  Type  city  \n",
       "0             0           800.00     0     0  \n",
       "1             1           800.00     0     0  \n",
       "2             2           800.00     0     0  \n",
       "3             3           300.00     0     0  \n",
       "4             4           600.00     0     0  \n",
       "...         ...              ...   ...   ...  \n",
       "51711       861           800.00     6    29  \n",
       "51712       255          1500.00     6    29  \n",
       "51713       254           600.00     6    29  \n",
       "51715       254          2500.00     6    29  \n",
       "51716       605          1500.00     6    29  \n",
       "\n",
       "[50279 rows x 11 columns]"
      ]
     },
     "execution_count": 213,
     "metadata": {},
     "output_type": "execute_result"
    }
   ],
   "source": [
    "def encode_categorical_columns(df):\n",
    "    categorical_columns = df.loc[:, df.dtypes == 'object'].columns\n",
    "    for col in categorical_columns:\n",
    "        df[col] = pd.factorize(df[col])[0]\n",
    "    return df\n",
    "encode_categorical_columns(df)"
   ]
  },
  {
   "cell_type": "markdown",
   "id": "894d08cc",
   "metadata": {},
   "source": [
    "## Train test Split"
   ]
  },
  {
   "cell_type": "code",
   "execution_count": 214,
   "id": "7053cf6b",
   "metadata": {},
   "outputs": [],
   "source": [
    "# splitting data into trining sample and test sample\n",
    "from sklearn.model_selection import train_test_split"
   ]
  },
  {
   "cell_type": "code",
   "execution_count": 215,
   "id": "b838c559",
   "metadata": {},
   "outputs": [
    {
     "data": {
      "text/html": [
       "<div>\n",
       "<style scoped>\n",
       "    .dataframe tbody tr th:only-of-type {\n",
       "        vertical-align: middle;\n",
       "    }\n",
       "\n",
       "    .dataframe tbody tr th {\n",
       "        vertical-align: top;\n",
       "    }\n",
       "\n",
       "    .dataframe thead th {\n",
       "        text-align: right;\n",
       "    }\n",
       "</style>\n",
       "<table border=\"1\" class=\"dataframe\">\n",
       "  <thead>\n",
       "    <tr style=\"text-align: right;\">\n",
       "      <th></th>\n",
       "      <th>name</th>\n",
       "      <th>online_order</th>\n",
       "      <th>book_table</th>\n",
       "      <th>votes</th>\n",
       "      <th>location</th>\n",
       "      <th>rest_type</th>\n",
       "      <th>cuisines</th>\n",
       "      <th>Cost_for_couple</th>\n",
       "      <th>Type</th>\n",
       "      <th>city</th>\n",
       "    </tr>\n",
       "  </thead>\n",
       "  <tbody>\n",
       "    <tr>\n",
       "      <th>0</th>\n",
       "      <td>0</td>\n",
       "      <td>1</td>\n",
       "      <td>1</td>\n",
       "      <td>775</td>\n",
       "      <td>0</td>\n",
       "      <td>0</td>\n",
       "      <td>0</td>\n",
       "      <td>800.00</td>\n",
       "      <td>0</td>\n",
       "      <td>0</td>\n",
       "    </tr>\n",
       "    <tr>\n",
       "      <th>1</th>\n",
       "      <td>1</td>\n",
       "      <td>1</td>\n",
       "      <td>0</td>\n",
       "      <td>787</td>\n",
       "      <td>0</td>\n",
       "      <td>0</td>\n",
       "      <td>1</td>\n",
       "      <td>800.00</td>\n",
       "      <td>0</td>\n",
       "      <td>0</td>\n",
       "    </tr>\n",
       "    <tr>\n",
       "      <th>2</th>\n",
       "      <td>2</td>\n",
       "      <td>1</td>\n",
       "      <td>0</td>\n",
       "      <td>918</td>\n",
       "      <td>0</td>\n",
       "      <td>1</td>\n",
       "      <td>2</td>\n",
       "      <td>800.00</td>\n",
       "      <td>0</td>\n",
       "      <td>0</td>\n",
       "    </tr>\n",
       "    <tr>\n",
       "      <th>3</th>\n",
       "      <td>3</td>\n",
       "      <td>0</td>\n",
       "      <td>0</td>\n",
       "      <td>88</td>\n",
       "      <td>0</td>\n",
       "      <td>2</td>\n",
       "      <td>3</td>\n",
       "      <td>300.00</td>\n",
       "      <td>0</td>\n",
       "      <td>0</td>\n",
       "    </tr>\n",
       "    <tr>\n",
       "      <th>4</th>\n",
       "      <td>4</td>\n",
       "      <td>0</td>\n",
       "      <td>0</td>\n",
       "      <td>166</td>\n",
       "      <td>1</td>\n",
       "      <td>0</td>\n",
       "      <td>4</td>\n",
       "      <td>600.00</td>\n",
       "      <td>0</td>\n",
       "      <td>0</td>\n",
       "    </tr>\n",
       "    <tr>\n",
       "      <th>...</th>\n",
       "      <td>...</td>\n",
       "      <td>...</td>\n",
       "      <td>...</td>\n",
       "      <td>...</td>\n",
       "      <td>...</td>\n",
       "      <td>...</td>\n",
       "      <td>...</td>\n",
       "      <td>...</td>\n",
       "      <td>...</td>\n",
       "      <td>...</td>\n",
       "    </tr>\n",
       "    <tr>\n",
       "      <th>51711</th>\n",
       "      <td>2130</td>\n",
       "      <td>0</td>\n",
       "      <td>0</td>\n",
       "      <td>81</td>\n",
       "      <td>29</td>\n",
       "      <td>30</td>\n",
       "      <td>861</td>\n",
       "      <td>800.00</td>\n",
       "      <td>6</td>\n",
       "      <td>29</td>\n",
       "    </tr>\n",
       "    <tr>\n",
       "      <th>51712</th>\n",
       "      <td>8547</td>\n",
       "      <td>0</td>\n",
       "      <td>0</td>\n",
       "      <td>27</td>\n",
       "      <td>29</td>\n",
       "      <td>17</td>\n",
       "      <td>255</td>\n",
       "      <td>1500.00</td>\n",
       "      <td>6</td>\n",
       "      <td>29</td>\n",
       "    </tr>\n",
       "    <tr>\n",
       "      <th>51713</th>\n",
       "      <td>8552</td>\n",
       "      <td>0</td>\n",
       "      <td>0</td>\n",
       "      <td>0</td>\n",
       "      <td>29</td>\n",
       "      <td>17</td>\n",
       "      <td>254</td>\n",
       "      <td>600.00</td>\n",
       "      <td>6</td>\n",
       "      <td>29</td>\n",
       "    </tr>\n",
       "    <tr>\n",
       "      <th>51715</th>\n",
       "      <td>8608</td>\n",
       "      <td>0</td>\n",
       "      <td>1</td>\n",
       "      <td>236</td>\n",
       "      <td>62</td>\n",
       "      <td>17</td>\n",
       "      <td>254</td>\n",
       "      <td>2500.00</td>\n",
       "      <td>6</td>\n",
       "      <td>29</td>\n",
       "    </tr>\n",
       "    <tr>\n",
       "      <th>51716</th>\n",
       "      <td>8609</td>\n",
       "      <td>0</td>\n",
       "      <td>0</td>\n",
       "      <td>13</td>\n",
       "      <td>62</td>\n",
       "      <td>36</td>\n",
       "      <td>605</td>\n",
       "      <td>1500.00</td>\n",
       "      <td>6</td>\n",
       "      <td>29</td>\n",
       "    </tr>\n",
       "  </tbody>\n",
       "</table>\n",
       "<p>50279 rows × 10 columns</p>\n",
       "</div>"
      ],
      "text/plain": [
       "       name  online_order  book_table  votes  location  rest_type  cuisines  \\\n",
       "0         0             1           1    775         0          0         0   \n",
       "1         1             1           0    787         0          0         1   \n",
       "2         2             1           0    918         0          1         2   \n",
       "3         3             0           0     88         0          2         3   \n",
       "4         4             0           0    166         1          0         4   \n",
       "...     ...           ...         ...    ...       ...        ...       ...   \n",
       "51711  2130             0           0     81        29         30       861   \n",
       "51712  8547             0           0     27        29         17       255   \n",
       "51713  8552             0           0      0        29         17       254   \n",
       "51715  8608             0           1    236        62         17       254   \n",
       "51716  8609             0           0     13        62         36       605   \n",
       "\n",
       "       Cost_for_couple  Type  city  \n",
       "0               800.00     0     0  \n",
       "1               800.00     0     0  \n",
       "2               800.00     0     0  \n",
       "3               300.00     0     0  \n",
       "4               600.00     0     0  \n",
       "...                ...   ...   ...  \n",
       "51711           800.00     6    29  \n",
       "51712          1500.00     6    29  \n",
       "51713           600.00     6    29  \n",
       "51715          2500.00     6    29  \n",
       "51716          1500.00     6    29  \n",
       "\n",
       "[50279 rows x 10 columns]"
      ]
     },
     "execution_count": 215,
     "metadata": {},
     "output_type": "execute_result"
    }
   ],
   "source": [
    "# input data\n",
    "X = df.drop(\"rate\",axis = 1)\n",
    "X"
   ]
  },
  {
   "cell_type": "code",
   "execution_count": 216,
   "id": "17eba46a",
   "metadata": {},
   "outputs": [
    {
     "data": {
      "text/plain": [
       "0        1\n",
       "1        1\n",
       "2        1\n",
       "3        1\n",
       "4        1\n",
       "        ..\n",
       "51711    0\n",
       "51712    0\n",
       "51713    1\n",
       "51715    1\n",
       "51716    0\n",
       "Name: rate, Length: 50279, dtype: int64"
      ]
     },
     "execution_count": 216,
     "metadata": {},
     "output_type": "execute_result"
    }
   ],
   "source": [
    "# predictive data\n",
    "y = df[\"rate\"]\n",
    "y"
   ]
  },
  {
   "cell_type": "markdown",
   "id": "8c04e0f5",
   "metadata": {},
   "source": [
    "## dealing with Imbalanced data"
   ]
  },
  {
   "cell_type": "code",
   "execution_count": 223,
   "id": "cac8032a",
   "metadata": {},
   "outputs": [],
   "source": [
    "from imblearn.over_sampling import SMOTE\n",
    "# Apply SMOTE oversampling\n",
    "smote = SMOTE(random_state=42)\n",
    "X, y = smote.fit_resample(X, y)\n"
   ]
  },
  {
   "cell_type": "code",
   "execution_count": 218,
   "id": "4dfbd046",
   "metadata": {},
   "outputs": [
    {
     "name": "stdout",
     "output_type": "stream",
     "text": [
      "{'X_train': (49520, 10), 'X_test': (12380, 10)}\n",
      "{'y_train': (49520,), 'y_test': (12380,)}\n"
     ]
    }
   ],
   "source": [
    "# split data into 80% as train data and 20% for testing.\n",
    "X_train,X_test,y_train,y_test = train_test_split(X,y,test_size = 0.2,random_state = 42)\n",
    "print({\"X_train\":X_train.shape,\"X_test\":X_test.shape})\n",
    "print({\"y_train\":y_train.shape,\"y_test\":y_test.shape})"
   ]
  },
  {
   "cell_type": "code",
   "execution_count": 219,
   "id": "348b494b",
   "metadata": {},
   "outputs": [
    {
     "data": {
      "text/plain": [
       "array([[ 0.6078654 ,  0.83684879, -0.35159053, ..., -0.44228387,\n",
       "        -0.68043524,  0.45206263],\n",
       "       [ 0.75282029, -1.19495901, -0.35159053, ...,  1.35429595,\n",
       "         1.13738701,  0.70527089],\n",
       "       [ 0.10299158, -1.19495901, -0.35159053, ..., -0.08296791,\n",
       "        -0.68043524, -1.19379101],\n",
       "       ...,\n",
       "       [-1.26712379,  0.83684879, -0.35159053, ..., -0.32251189,\n",
       "        -0.68043524,  0.19885438],\n",
       "       [-0.29776605,  0.83684879,  2.84421767, ...,  2.31247185,\n",
       "         1.13738701,  1.08508327],\n",
       "       [-1.00055041,  0.83684879, -0.35159053, ..., -0.32251189,\n",
       "        -0.68043524, -0.43416625]])"
      ]
     },
     "execution_count": 219,
     "metadata": {},
     "output_type": "execute_result"
    }
   ],
   "source": [
    "from sklearn.linear_model import LogisticRegression\n",
    "from sklearn.preprocessing import StandardScaler\n",
    "\n",
    "scaler = StandardScaler()\n",
    "X_train= scaler.fit_transform(X_train)\n",
    "X_test = scaler.fit_transform(X_test)\n",
    "X_test"
   ]
  },
  {
   "cell_type": "code",
   "execution_count": null,
   "id": "71f57b46",
   "metadata": {},
   "outputs": [],
   "source": []
  },
  {
   "cell_type": "markdown",
   "id": "ca945e8b",
   "metadata": {},
   "source": [
    "## Auto ML:\n",
    "##### Using Lazypredict Classifier to Automatically generate all classification models at once to select directly best model to use"
   ]
  },
  {
   "cell_type": "code",
   "execution_count": 225,
   "id": "4a7a30f7",
   "metadata": {},
   "outputs": [],
   "source": [
    "from lazypredict.Supervised import LazyClassifier"
   ]
  },
  {
   "cell_type": "code",
   "execution_count": 54,
   "id": "0c1814d6",
   "metadata": {},
   "outputs": [
    {
     "name": "stderr",
     "output_type": "stream",
     "text": [
      "100%|███████████████████████████████████████████████████████████████████████████████| 29/29 [1:50:04<00:00, 227.76s/it]\n"
     ]
    }
   ],
   "source": [
    "clf = LazyClassifier(verbose=0,ignore_warnings=True, custom_metric=None)\n",
    "models,predictions = clf.fit(X_train, X_test, y_train, y_test)"
   ]
  },
  {
   "cell_type": "code",
   "execution_count": 55,
   "id": "827351d9",
   "metadata": {},
   "outputs": [
    {
     "data": {
      "text/html": [
       "<div>\n",
       "<style scoped>\n",
       "    .dataframe tbody tr th:only-of-type {\n",
       "        vertical-align: middle;\n",
       "    }\n",
       "\n",
       "    .dataframe tbody tr th {\n",
       "        vertical-align: top;\n",
       "    }\n",
       "\n",
       "    .dataframe thead th {\n",
       "        text-align: right;\n",
       "    }\n",
       "</style>\n",
       "<table border=\"1\" class=\"dataframe\">\n",
       "  <thead>\n",
       "    <tr style=\"text-align: right;\">\n",
       "      <th></th>\n",
       "      <th>Accuracy</th>\n",
       "      <th>Balanced Accuracy</th>\n",
       "      <th>ROC AUC</th>\n",
       "      <th>F1 Score</th>\n",
       "      <th>Time Taken</th>\n",
       "    </tr>\n",
       "    <tr>\n",
       "      <th>Model</th>\n",
       "      <th></th>\n",
       "      <th></th>\n",
       "      <th></th>\n",
       "      <th></th>\n",
       "      <th></th>\n",
       "    </tr>\n",
       "  </thead>\n",
       "  <tbody>\n",
       "    <tr>\n",
       "      <th>ExtraTreesClassifier</th>\n",
       "      <td>0.85</td>\n",
       "      <td>0.85</td>\n",
       "      <td>0.85</td>\n",
       "      <td>0.85</td>\n",
       "      <td>3.71</td>\n",
       "    </tr>\n",
       "    <tr>\n",
       "      <th>RandomForestClassifier</th>\n",
       "      <td>0.85</td>\n",
       "      <td>0.85</td>\n",
       "      <td>0.85</td>\n",
       "      <td>0.85</td>\n",
       "      <td>5.32</td>\n",
       "    </tr>\n",
       "    <tr>\n",
       "      <th>BaggingClassifier</th>\n",
       "      <td>0.83</td>\n",
       "      <td>0.83</td>\n",
       "      <td>0.83</td>\n",
       "      <td>0.82</td>\n",
       "      <td>1.31</td>\n",
       "    </tr>\n",
       "    <tr>\n",
       "      <th>DecisionTreeClassifier</th>\n",
       "      <td>0.78</td>\n",
       "      <td>0.78</td>\n",
       "      <td>0.78</td>\n",
       "      <td>0.77</td>\n",
       "      <td>0.20</td>\n",
       "    </tr>\n",
       "    <tr>\n",
       "      <th>XGBClassifier</th>\n",
       "      <td>0.77</td>\n",
       "      <td>0.78</td>\n",
       "      <td>0.78</td>\n",
       "      <td>0.77</td>\n",
       "      <td>1.29</td>\n",
       "    </tr>\n",
       "    <tr>\n",
       "      <th>LGBMClassifier</th>\n",
       "      <td>0.76</td>\n",
       "      <td>0.77</td>\n",
       "      <td>0.77</td>\n",
       "      <td>0.76</td>\n",
       "      <td>0.36</td>\n",
       "    </tr>\n",
       "    <tr>\n",
       "      <th>ExtraTreeClassifier</th>\n",
       "      <td>0.76</td>\n",
       "      <td>0.76</td>\n",
       "      <td>0.76</td>\n",
       "      <td>0.76</td>\n",
       "      <td>0.06</td>\n",
       "    </tr>\n",
       "    <tr>\n",
       "      <th>LabelPropagation</th>\n",
       "      <td>0.76</td>\n",
       "      <td>0.76</td>\n",
       "      <td>0.76</td>\n",
       "      <td>0.76</td>\n",
       "      <td>2124.43</td>\n",
       "    </tr>\n",
       "    <tr>\n",
       "      <th>KNeighborsClassifier</th>\n",
       "      <td>0.72</td>\n",
       "      <td>0.72</td>\n",
       "      <td>0.72</td>\n",
       "      <td>0.72</td>\n",
       "      <td>1.50</td>\n",
       "    </tr>\n",
       "    <tr>\n",
       "      <th>NuSVC</th>\n",
       "      <td>0.72</td>\n",
       "      <td>0.72</td>\n",
       "      <td>0.72</td>\n",
       "      <td>0.71</td>\n",
       "      <td>1765.67</td>\n",
       "    </tr>\n",
       "    <tr>\n",
       "      <th>AdaBoostClassifier</th>\n",
       "      <td>0.71</td>\n",
       "      <td>0.71</td>\n",
       "      <td>0.71</td>\n",
       "      <td>0.70</td>\n",
       "      <td>1.46</td>\n",
       "    </tr>\n",
       "    <tr>\n",
       "      <th>SVC</th>\n",
       "      <td>0.69</td>\n",
       "      <td>0.69</td>\n",
       "      <td>0.69</td>\n",
       "      <td>0.68</td>\n",
       "      <td>130.89</td>\n",
       "    </tr>\n",
       "    <tr>\n",
       "      <th>LogisticRegression</th>\n",
       "      <td>0.69</td>\n",
       "      <td>0.69</td>\n",
       "      <td>0.69</td>\n",
       "      <td>0.67</td>\n",
       "      <td>0.20</td>\n",
       "    </tr>\n",
       "    <tr>\n",
       "      <th>LinearSVC</th>\n",
       "      <td>0.68</td>\n",
       "      <td>0.68</td>\n",
       "      <td>0.68</td>\n",
       "      <td>0.67</td>\n",
       "      <td>5.81</td>\n",
       "    </tr>\n",
       "    <tr>\n",
       "      <th>SGDClassifier</th>\n",
       "      <td>0.68</td>\n",
       "      <td>0.68</td>\n",
       "      <td>0.68</td>\n",
       "      <td>0.66</td>\n",
       "      <td>0.13</td>\n",
       "    </tr>\n",
       "    <tr>\n",
       "      <th>CalibratedClassifierCV</th>\n",
       "      <td>0.67</td>\n",
       "      <td>0.68</td>\n",
       "      <td>0.68</td>\n",
       "      <td>0.65</td>\n",
       "      <td>10.68</td>\n",
       "    </tr>\n",
       "    <tr>\n",
       "      <th>QuadraticDiscriminantAnalysis</th>\n",
       "      <td>0.64</td>\n",
       "      <td>0.65</td>\n",
       "      <td>0.65</td>\n",
       "      <td>0.61</td>\n",
       "      <td>0.09</td>\n",
       "    </tr>\n",
       "    <tr>\n",
       "      <th>GaussianNB</th>\n",
       "      <td>0.64</td>\n",
       "      <td>0.64</td>\n",
       "      <td>0.64</td>\n",
       "      <td>0.61</td>\n",
       "      <td>0.05</td>\n",
       "    </tr>\n",
       "    <tr>\n",
       "      <th>BernoulliNB</th>\n",
       "      <td>0.64</td>\n",
       "      <td>0.64</td>\n",
       "      <td>0.64</td>\n",
       "      <td>0.63</td>\n",
       "      <td>0.06</td>\n",
       "    </tr>\n",
       "    <tr>\n",
       "      <th>LinearDiscriminantAnalysis</th>\n",
       "      <td>0.64</td>\n",
       "      <td>0.64</td>\n",
       "      <td>0.64</td>\n",
       "      <td>0.61</td>\n",
       "      <td>0.87</td>\n",
       "    </tr>\n",
       "    <tr>\n",
       "      <th>RidgeClassifier</th>\n",
       "      <td>0.64</td>\n",
       "      <td>0.64</td>\n",
       "      <td>0.64</td>\n",
       "      <td>0.61</td>\n",
       "      <td>0.08</td>\n",
       "    </tr>\n",
       "    <tr>\n",
       "      <th>RidgeClassifierCV</th>\n",
       "      <td>0.64</td>\n",
       "      <td>0.64</td>\n",
       "      <td>0.64</td>\n",
       "      <td>0.61</td>\n",
       "      <td>0.10</td>\n",
       "    </tr>\n",
       "    <tr>\n",
       "      <th>NearestCentroid</th>\n",
       "      <td>0.62</td>\n",
       "      <td>0.63</td>\n",
       "      <td>0.63</td>\n",
       "      <td>0.60</td>\n",
       "      <td>0.09</td>\n",
       "    </tr>\n",
       "    <tr>\n",
       "      <th>Perceptron</th>\n",
       "      <td>0.60</td>\n",
       "      <td>0.60</td>\n",
       "      <td>0.60</td>\n",
       "      <td>0.60</td>\n",
       "      <td>0.05</td>\n",
       "    </tr>\n",
       "    <tr>\n",
       "      <th>PassiveAggressiveClassifier</th>\n",
       "      <td>0.55</td>\n",
       "      <td>0.55</td>\n",
       "      <td>0.55</td>\n",
       "      <td>0.54</td>\n",
       "      <td>0.10</td>\n",
       "    </tr>\n",
       "    <tr>\n",
       "      <th>DummyClassifier</th>\n",
       "      <td>0.50</td>\n",
       "      <td>0.50</td>\n",
       "      <td>0.50</td>\n",
       "      <td>0.33</td>\n",
       "      <td>0.05</td>\n",
       "    </tr>\n",
       "  </tbody>\n",
       "</table>\n",
       "</div>"
      ],
      "text/plain": [
       "                               Accuracy  Balanced Accuracy  ROC AUC  F1 Score  \\\n",
       "Model                                                                           \n",
       "ExtraTreesClassifier               0.85               0.85     0.85      0.85   \n",
       "RandomForestClassifier             0.85               0.85     0.85      0.85   \n",
       "BaggingClassifier                  0.83               0.83     0.83      0.82   \n",
       "DecisionTreeClassifier             0.78               0.78     0.78      0.77   \n",
       "XGBClassifier                      0.77               0.78     0.78      0.77   \n",
       "LGBMClassifier                     0.76               0.77     0.77      0.76   \n",
       "ExtraTreeClassifier                0.76               0.76     0.76      0.76   \n",
       "LabelPropagation                   0.76               0.76     0.76      0.76   \n",
       "KNeighborsClassifier               0.72               0.72     0.72      0.72   \n",
       "NuSVC                              0.72               0.72     0.72      0.71   \n",
       "AdaBoostClassifier                 0.71               0.71     0.71      0.70   \n",
       "SVC                                0.69               0.69     0.69      0.68   \n",
       "LogisticRegression                 0.69               0.69     0.69      0.67   \n",
       "LinearSVC                          0.68               0.68     0.68      0.67   \n",
       "SGDClassifier                      0.68               0.68     0.68      0.66   \n",
       "CalibratedClassifierCV             0.67               0.68     0.68      0.65   \n",
       "QuadraticDiscriminantAnalysis      0.64               0.65     0.65      0.61   \n",
       "GaussianNB                         0.64               0.64     0.64      0.61   \n",
       "BernoulliNB                        0.64               0.64     0.64      0.63   \n",
       "LinearDiscriminantAnalysis         0.64               0.64     0.64      0.61   \n",
       "RidgeClassifier                    0.64               0.64     0.64      0.61   \n",
       "RidgeClassifierCV                  0.64               0.64     0.64      0.61   \n",
       "NearestCentroid                    0.62               0.63     0.63      0.60   \n",
       "Perceptron                         0.60               0.60     0.60      0.60   \n",
       "PassiveAggressiveClassifier        0.55               0.55     0.55      0.54   \n",
       "DummyClassifier                    0.50               0.50     0.50      0.33   \n",
       "\n",
       "                               Time Taken  \n",
       "Model                                      \n",
       "ExtraTreesClassifier                 3.71  \n",
       "RandomForestClassifier               5.32  \n",
       "BaggingClassifier                    1.31  \n",
       "DecisionTreeClassifier               0.20  \n",
       "XGBClassifier                        1.29  \n",
       "LGBMClassifier                       0.36  \n",
       "ExtraTreeClassifier                  0.06  \n",
       "LabelPropagation                  2124.43  \n",
       "KNeighborsClassifier                 1.50  \n",
       "NuSVC                             1765.67  \n",
       "AdaBoostClassifier                   1.46  \n",
       "SVC                                130.89  \n",
       "LogisticRegression                   0.20  \n",
       "LinearSVC                            5.81  \n",
       "SGDClassifier                        0.13  \n",
       "CalibratedClassifierCV              10.68  \n",
       "QuadraticDiscriminantAnalysis        0.09  \n",
       "GaussianNB                           0.05  \n",
       "BernoulliNB                          0.06  \n",
       "LinearDiscriminantAnalysis           0.87  \n",
       "RidgeClassifier                      0.08  \n",
       "RidgeClassifierCV                    0.10  \n",
       "NearestCentroid                      0.09  \n",
       "Perceptron                           0.05  \n",
       "PassiveAggressiveClassifier          0.10  \n",
       "DummyClassifier                      0.05  "
      ]
     },
     "execution_count": 55,
     "metadata": {},
     "output_type": "execute_result"
    }
   ],
   "source": [
    "models"
   ]
  },
  {
   "cell_type": "markdown",
   "id": "d7ba2878",
   "metadata": {},
   "source": [
    "### dealing with outliers : Using interquartile range(IQR) technique."
   ]
  },
  {
   "cell_type": "code",
   "execution_count": 226,
   "id": "54d9577c",
   "metadata": {},
   "outputs": [
    {
     "data": {
      "image/png": "[encoded data removed]",
      "text/plain": [
       "<Figure size 500x500 with 1 Axes>"
      ]
     },
     "metadata": {},
     "output_type": "display_data"
    },
    {
     "data": {
      "image/png": "[encoded data removed]",
      "text/plain": [
       "<Figure size 500x500 with 1 Axes>"
      ]
     },
     "metadata": {},
     "output_type": "display_data"
    },
    {
     "data": {
      "image/png": "[encoded data removed]",
      "text/plain": [
       "<Figure size 500x500 with 1 Axes>"
      ]
     },
     "metadata": {},
     "output_type": "display_data"
    },
    {
     "data": {
      "image/png": "[encoded data removed]",
      "text/plain": [
       "<Figure size 500x500 with 1 Axes>"
      ]
     },
     "metadata": {},
     "output_type": "display_data"
    },
    {
     "data": {
      "image/png": "[encoded data removed]",
      "text/plain": [
       "<Figure size 500x500 with 1 Axes>"
      ]
     },
     "metadata": {},
     "output_type": "display_data"
    },
    {
     "data": {
      "image/png": "[encoded data removed]",
      "text/plain": [
       "<Figure size 500x500 with 1 Axes>"
      ]
     },
     "metadata": {},
     "output_type": "display_data"
    },
    {
     "data": {
      "image/png": "[encoded data removed]",
      "text/plain": [
       "<Figure size 500x500 with 1 Axes>"
      ]
     },
     "metadata": {},
     "output_type": "display_data"
    },
    {
     "data": {
      "image/png": "[encoded data removed]",
      "text/plain": [
       "<Figure size 500x500 with 1 Axes>"
      ]
     },
     "metadata": {},
     "output_type": "display_data"
    },
    {
     "data": {
      "image/png": "[encoded data removed]",
      "text/plain": [
       "<Figure size 500x500 with 1 Axes>"
      ]
     },
     "metadata": {},
     "output_type": "display_data"
    },
    {
     "data": {
      "image/png": "[encoded data removed]",
      "text/plain": [
       "<Figure size 500x500 with 1 Axes>"
      ]
     },
     "metadata": {},
     "output_type": "display_data"
    },
    {
     "data": {
      "image/png": "[encoded data removed]",
      "text/plain": [
       "<Figure size 500x500 with 1 Axes>"
      ]
     },
     "metadata": {},
     "output_type": "display_data"
    }
   ],
   "source": [
    "# Iterate over each column in the dataset\n",
    "for i, col in enumerate(df.columns):\n",
    "    # Resizing images\n",
    "    plt.figure(figsize=(5, 5))    \n",
    "    # Boxplot to detect outliers in each column\n",
    "    sns.boxplot(data=df, x=col)\n",
    "    \n",
    "plt.tight_layout()\n",
    "plt.show()"
   ]
  },
  {
   "cell_type": "code",
   "execution_count": 227,
   "id": "6d3e39c9",
   "metadata": {},
   "outputs": [],
   "source": [
    "# detect outlier by using IQR.\n",
    "from collections import Counter\n",
    "def detect_outliers(df,features):\n",
    "    # empty list to add over range indeces\n",
    "    outlier_indices = []\n",
    "    for data in features:\n",
    "        # 1st quartile\n",
    "        Q1 = np.percentile(df[data],25)\n",
    "        # 3rd quartile\n",
    "        Q3 = np.percentile(df[data],75)\n",
    "        # IQR\n",
    "        IQR = Q3 - Q1\n",
    "        # Outlier step\n",
    "        outlier_step = IQR * 1.5\n",
    "        # detect outlier and their indeces\n",
    "        outlier_list_col = df[(df[data] < Q1 - outlier_step) | (df[data] > Q3 + outlier_step)].index\n",
    "        # store indeces\n",
    "        outlier_indices.extend(outlier_list_col)\n",
    "    \n",
    "    outlier_indices = Counter(outlier_indices)\n",
    "    multiple_outliers = list(i for i, v in outlier_indices.items() if v > 2)\n",
    "    \n",
    "    return multiple_outliers"
   ]
  },
  {
   "cell_type": "code",
   "execution_count": 228,
   "id": "5e6e0ee5",
   "metadata": {},
   "outputs": [],
   "source": [
    "# Delete outlier from original data\n",
    "Features=np.array(df.columns)\n",
    "df = df.drop(detect_outliers(df,Features))"
   ]
  },
  {
   "cell_type": "code",
   "execution_count": null,
   "id": "5bf3a6c3",
   "metadata": {},
   "outputs": [],
   "source": []
  },
  {
   "cell_type": "markdown",
   "id": "eed0e7cb",
   "metadata": {},
   "source": [
    "### Import packages and modules:\n",
    "\n",
    "##### for model selection and creating pipeline including transformers and models all at once instead of using multi-steps."
   ]
  },
  {
   "cell_type": "code",
   "execution_count": 277,
   "id": "2b980f5b",
   "metadata": {},
   "outputs": [],
   "source": [
    "from sklearn.pipeline import Pipeline,make_pipeline\n",
    "from sklearn.ensemble import ExtraTreesClassifier,RandomForestClassifier\n",
    "from sklearn.preprocessing import OneHotEncoder, StandardScaler\n",
    "from sklearn.compose import ColumnTransformer\n",
    "from sklearn.preprocessing import FunctionTransformer\n",
    "from sklearn import set_config"
   ]
  },
  {
   "cell_type": "code",
   "execution_count": 278,
   "id": "0af07c80",
   "metadata": {},
   "outputs": [],
   "source": [
    "\n",
    "steps = [\n",
    "    # rescale data by removes the mean and scales each feature/variable to unit variance.\n",
    "    (\"scaler\",StandardScaler()),\n",
    "    # selected model\n",
    "    (\"model\",ExtraTreesClassifier())\n",
    "]"
   ]
  },
  {
   "cell_type": "code",
   "execution_count": 279,
   "id": "42016a7b",
   "metadata": {},
   "outputs": [],
   "source": [
    "# Set the display options for scikit-learn\n",
    "set_config(display='diagram')\n",
    "\n",
    "# Pipline assigned to varibale pip\n",
    "pip = Pipeline(steps)"
   ]
  },
  {
   "cell_type": "code",
   "execution_count": 280,
   "id": "8e8b87e2",
   "metadata": {},
   "outputs": [
    {
     "data": {
      "text/html": [
       "<style>#sk-cae7b334-e018-46c3-9fa4-92b50d667c7a {color: black;background-color: white;}#sk-cae7b334-e018-46c3-9fa4-92b50d667c7a pre{padding: 0;}#sk-cae7b334-e018-46c3-9fa4-92b50d667c7a div.sk-toggleable {background-color: white;}#sk-cae7b334-e018-46c3-9fa4-92b50d667c7a label.sk-toggleable__label {cursor: pointer;display: block;width: 100%;margin-bottom: 0;padding: 0.3em;box-sizing: border-box;text-align: center;}#sk-cae7b334-e018-46c3-9fa4-92b50d667c7a label.sk-toggleable__label-arrow:before {content: \"▸\";float: left;margin-right: 0.25em;color: #696969;}#sk-cae7b334-e018-46c3-9fa4-92b50d667c7a label.sk-toggleable__label-arrow:hover:before {color: black;}#sk-cae7b334-e018-46c3-9fa4-92b50d667c7a div.sk-estimator:hover label.sk-toggleable__label-arrow:before {color: black;}#sk-cae7b334-e018-46c3-9fa4-92b50d667c7a div.sk-toggleable__content {max-height: 0;max-width: 0;overflow: hidden;text-align: left;background-color: #f0f8ff;}#sk-cae7b334-e018-46c3-9fa4-92b50d667c7a div.sk-toggleable__content pre {margin: 0.2em;color: black;border-radius: 0.25em;background-color: #f0f8ff;}#sk-cae7b334-e018-46c3-9fa4-92b50d667c7a input.sk-toggleable__control:checked~div.sk-toggleable__content {max-height: 200px;max-width: 100%;overflow: auto;}#sk-cae7b334-e018-46c3-9fa4-92b50d667c7a input.sk-toggleable__control:checked~label.sk-toggleable__label-arrow:before {content: \"▾\";}#sk-cae7b334-e018-46c3-9fa4-92b50d667c7a div.sk-estimator input.sk-toggleable__control:checked~label.sk-toggleable__label {background-color: #d4ebff;}#sk-cae7b334-e018-46c3-9fa4-92b50d667c7a div.sk-label input.sk-toggleable__control:checked~label.sk-toggleable__label {background-color: #d4ebff;}#sk-cae7b334-e018-46c3-9fa4-92b50d667c7a input.sk-hidden--visually {border: 0;clip: rect(1px 1px 1px 1px);clip: rect(1px, 1px, 1px, 1px);height: 1px;margin: -1px;overflow: hidden;padding: 0;position: absolute;width: 1px;}#sk-cae7b334-e018-46c3-9fa4-92b50d667c7a div.sk-estimator {font-family: monospace;background-color: #f0f8ff;border: 1px dotted black;border-radius: 0.25em;box-sizing: border-box;margin-bottom: 0.5em;}#sk-cae7b334-e018-46c3-9fa4-92b50d667c7a div.sk-estimator:hover {background-color: #d4ebff;}#sk-cae7b334-e018-46c3-9fa4-92b50d667c7a div.sk-parallel-item::after {content: \"\";width: 100%;border-bottom: 1px solid gray;flex-grow: 1;}#sk-cae7b334-e018-46c3-9fa4-92b50d667c7a div.sk-label:hover label.sk-toggleable__label {background-color: #d4ebff;}#sk-cae7b334-e018-46c3-9fa4-92b50d667c7a div.sk-serial::before {content: \"\";position: absolute;border-left: 1px solid gray;box-sizing: border-box;top: 2em;bottom: 0;left: 50%;}#sk-cae7b334-e018-46c3-9fa4-92b50d667c7a div.sk-serial {display: flex;flex-direction: column;align-items: center;background-color: white;padding-right: 0.2em;padding-left: 0.2em;}#sk-cae7b334-e018-46c3-9fa4-92b50d667c7a div.sk-item {z-index: 1;}#sk-cae7b334-e018-46c3-9fa4-92b50d667c7a div.sk-parallel {display: flex;align-items: stretch;justify-content: center;background-color: white;}#sk-cae7b334-e018-46c3-9fa4-92b50d667c7a div.sk-parallel::before {content: \"\";position: absolute;border-left: 1px solid gray;box-sizing: border-box;top: 2em;bottom: 0;left: 50%;}#sk-cae7b334-e018-46c3-9fa4-92b50d667c7a div.sk-parallel-item {display: flex;flex-direction: column;position: relative;background-color: white;}#sk-cae7b334-e018-46c3-9fa4-92b50d667c7a div.sk-parallel-item:first-child::after {align-self: flex-end;width: 50%;}#sk-cae7b334-e018-46c3-9fa4-92b50d667c7a div.sk-parallel-item:last-child::after {align-self: flex-start;width: 50%;}#sk-cae7b334-e018-46c3-9fa4-92b50d667c7a div.sk-parallel-item:only-child::after {width: 0;}#sk-cae7b334-e018-46c3-9fa4-92b50d667c7a div.sk-dashed-wrapped {border: 1px dashed gray;margin: 0 0.4em 0.5em 0.4em;box-sizing: border-box;padding-bottom: 0.4em;background-color: white;position: relative;}#sk-cae7b334-e018-46c3-9fa4-92b50d667c7a div.sk-label label {font-family: monospace;font-weight: bold;background-color: white;display: inline-block;line-height: 1.2em;}#sk-cae7b334-e018-46c3-9fa4-92b50d667c7a div.sk-label-container {position: relative;z-index: 2;text-align: center;}#sk-cae7b334-e018-46c3-9fa4-92b50d667c7a div.sk-container {/* jupyter's `normalize.less` sets `[hidden] { display: none; }` but bootstrap.min.css set `[hidden] { display: none !important; }` so we also need the `!important` here to be able to override the default hidden behavior on the sphinx rendered scikit-learn.org. See: https://github.com/scikit-learn/scikit-learn/issues/21755 */display: inline-block !important;position: relative;}#sk-cae7b334-e018-46c3-9fa4-92b50d667c7a div.sk-text-repr-fallback {display: none;}</style><div id=\"sk-cae7b334-e018-46c3-9fa4-92b50d667c7a\" class=\"sk-top-container\"><div class=\"sk-text-repr-fallback\"><pre>Pipeline(steps=[(&#x27;scaler&#x27;, StandardScaler()),\n",
       "                (&#x27;model&#x27;, ExtraTreesClassifier())])</pre><b>Please rerun this cell to show the HTML repr or trust the notebook.</b></div><div class=\"sk-container\" hidden><div class=\"sk-item sk-dashed-wrapped\"><div class=\"sk-label-container\"><div class=\"sk-label sk-toggleable\"><input class=\"sk-toggleable__control sk-hidden--visually\" id=\"4827dd78-5bae-43f1-976c-2bdfa8627f64\" type=\"checkbox\" ><label for=\"4827dd78-5bae-43f1-976c-2bdfa8627f64\" class=\"sk-toggleable__label sk-toggleable__label-arrow\">Pipeline</label><div class=\"sk-toggleable__content\"><pre>Pipeline(steps=[(&#x27;scaler&#x27;, StandardScaler()),\n",
       "                (&#x27;model&#x27;, ExtraTreesClassifier())])</pre></div></div></div><div class=\"sk-serial\"><div class=\"sk-item\"><div class=\"sk-estimator sk-toggleable\"><input class=\"sk-toggleable__control sk-hidden--visually\" id=\"bdac27fb-4969-4d37-abe8-63ab776c8127\" type=\"checkbox\" ><label for=\"bdac27fb-4969-4d37-abe8-63ab776c8127\" class=\"sk-toggleable__label sk-toggleable__label-arrow\">StandardScaler</label><div class=\"sk-toggleable__content\"><pre>StandardScaler()</pre></div></div></div><div class=\"sk-item\"><div class=\"sk-estimator sk-toggleable\"><input class=\"sk-toggleable__control sk-hidden--visually\" id=\"114ebe0c-eaee-411a-b6e6-57892a1926b1\" type=\"checkbox\" ><label for=\"114ebe0c-eaee-411a-b6e6-57892a1926b1\" class=\"sk-toggleable__label sk-toggleable__label-arrow\">ExtraTreesClassifier</label><div class=\"sk-toggleable__content\"><pre>ExtraTreesClassifier()</pre></div></div></div></div></div></div></div>"
      ],
      "text/plain": [
       "Pipeline(steps=[('scaler', StandardScaler()),\n",
       "                ('model', ExtraTreesClassifier())])"
      ]
     },
     "execution_count": 280,
     "metadata": {},
     "output_type": "execute_result"
    }
   ],
   "source": [
    "# fitting input data\n",
    "pip.fit(X_train,y_train)"
   ]
  },
  {
   "cell_type": "code",
   "execution_count": 290,
   "id": "d59eb407",
   "metadata": {},
   "outputs": [],
   "source": [
    "y_pred = pip.predict(X_test)"
   ]
  },
  {
   "cell_type": "code",
   "execution_count": 291,
   "id": "37ad157b",
   "metadata": {},
   "outputs": [
    {
     "data": {
      "text/plain": [
       "0.8641357027463651"
      ]
     },
     "execution_count": 291,
     "metadata": {},
     "output_type": "execute_result"
    }
   ],
   "source": [
    "pip.score(X_test,y_test)"
   ]
  },
  {
   "cell_type": "code",
   "execution_count": 292,
   "id": "1da23e6e",
   "metadata": {},
   "outputs": [
    {
     "name": "stdout",
     "output_type": "stream",
     "text": [
      "AxesSubplot(0.125,0.11;0.775x0.77) AxesSubplot(0.125,0.11;0.775x0.77)\n"
     ]
    },
    {
     "data": {
      "image/png": "[encoded data removed]",
      "text/plain": [
       "<Figure size 640x480 with 1 Axes>"
      ]
     },
     "metadata": {},
     "output_type": "display_data"
    }
   ],
   "source": [
    "print(sns.distplot(y_pred),sns.distplot(y_test))"
   ]
  },
  {
   "cell_type": "code",
   "execution_count": null,
   "id": "e7a8f667",
   "metadata": {},
   "outputs": [],
   "source": []
  },
  {
   "cell_type": "markdown",
   "id": "53044414",
   "metadata": {},
   "source": [
    "# Evaluating Model"
   ]
  },
  {
   "cell_type": "code",
   "execution_count": 293,
   "id": "be1f66a6",
   "metadata": {},
   "outputs": [
    {
     "name": "stdout",
     "output_type": "stream",
     "text": [
      "ExtraTreesClassifier Model accuracy score: 0.8641\n"
     ]
    }
   ],
   "source": [
    "# Import accuracy score. \n",
    "from sklearn.metrics import accuracy_score\n",
    "\n",
    "# evaluating accuracy result for correct predicted data.\n",
    "accuracy=accuracy_score(y_pred, y_test)\n",
    "\n",
    "# print accuracy score result.\n",
    "print('ExtraTreesClassifier Model accuracy score: {0:0.4f}'.format(accuracy_score(y_test, y_pred)))"
   ]
  },
  {
   "cell_type": "code",
   "execution_count": null,
   "id": "0f5d6e2f",
   "metadata": {},
   "outputs": [],
   "source": []
  },
  {
   "cell_type": "code",
   "execution_count": 294,
   "id": "ed44f35a",
   "metadata": {},
   "outputs": [
    {
     "data": {
      "text/html": [
       "<div>\n",
       "<style scoped>\n",
       "    .dataframe tbody tr th:only-of-type {\n",
       "        vertical-align: middle;\n",
       "    }\n",
       "\n",
       "    .dataframe tbody tr th {\n",
       "        vertical-align: top;\n",
       "    }\n",
       "\n",
       "    .dataframe thead th {\n",
       "        text-align: right;\n",
       "    }\n",
       "</style>\n",
       "<table border=\"1\" class=\"dataframe\">\n",
       "  <thead>\n",
       "    <tr style=\"text-align: right;\">\n",
       "      <th></th>\n",
       "      <th>precision</th>\n",
       "      <th>recall</th>\n",
       "      <th>f1-score</th>\n",
       "      <th>support</th>\n",
       "    </tr>\n",
       "  </thead>\n",
       "  <tbody>\n",
       "    <tr>\n",
       "      <th>0</th>\n",
       "      <td>0.80</td>\n",
       "      <td>0.97</td>\n",
       "      <td>0.88</td>\n",
       "      <td>6156.00</td>\n",
       "    </tr>\n",
       "    <tr>\n",
       "      <th>1</th>\n",
       "      <td>0.96</td>\n",
       "      <td>0.76</td>\n",
       "      <td>0.85</td>\n",
       "      <td>6224.00</td>\n",
       "    </tr>\n",
       "    <tr>\n",
       "      <th>accuracy</th>\n",
       "      <td>0.86</td>\n",
       "      <td>0.86</td>\n",
       "      <td>0.86</td>\n",
       "      <td>0.86</td>\n",
       "    </tr>\n",
       "    <tr>\n",
       "      <th>macro avg</th>\n",
       "      <td>0.88</td>\n",
       "      <td>0.86</td>\n",
       "      <td>0.86</td>\n",
       "      <td>12380.00</td>\n",
       "    </tr>\n",
       "    <tr>\n",
       "      <th>weighted avg</th>\n",
       "      <td>0.88</td>\n",
       "      <td>0.86</td>\n",
       "      <td>0.86</td>\n",
       "      <td>12380.00</td>\n",
       "    </tr>\n",
       "  </tbody>\n",
       "</table>\n",
       "</div>"
      ],
      "text/plain": [
       "              precision  recall  f1-score  support\n",
       "0                  0.80    0.97      0.88  6156.00\n",
       "1                  0.96    0.76      0.85  6224.00\n",
       "accuracy           0.86    0.86      0.86     0.86\n",
       "macro avg          0.88    0.86      0.86 12380.00\n",
       "weighted avg       0.88    0.86      0.86 12380.00"
      ]
     },
     "execution_count": 294,
     "metadata": {},
     "output_type": "execute_result"
    }
   ],
   "source": [
    "# performance evaluation metric using classification report.\n",
    "\n",
    "# Import packages and modules.\n",
    "from sklearn.metrics import classification_report\n",
    "\n",
    "# add classification report in shape of dataframe for easy reading.\n",
    "Report = pd.DataFrame(classification_report(y_test,y_pred,output_dict = True)).transpose()\n",
    "\n",
    "# show report results.\n",
    "Report"
   ]
  },
  {
   "cell_type": "code",
   "execution_count": 295,
   "id": "33391d78",
   "metadata": {},
   "outputs": [
    {
     "data": {
      "text/plain": [
       "<AxesSubplot:>"
      ]
     },
     "execution_count": 295,
     "metadata": {},
     "output_type": "execute_result"
    },
    {
     "data": {
      "image/png": "[encoded data removed]",
      "text/plain": [
       "<Figure size 640x480 with 1 Axes>"
      ]
     },
     "metadata": {},
     "output_type": "display_data"
    }
   ],
   "source": [
    "Report.plot()"
   ]
  },
  {
   "cell_type": "code",
   "execution_count": 296,
   "id": "095889de",
   "metadata": {},
   "outputs": [
    {
     "data": {
      "text/html": [
       "<div>\n",
       "<style scoped>\n",
       "    .dataframe tbody tr th:only-of-type {\n",
       "        vertical-align: middle;\n",
       "    }\n",
       "\n",
       "    .dataframe tbody tr th {\n",
       "        vertical-align: top;\n",
       "    }\n",
       "\n",
       "    .dataframe thead th {\n",
       "        text-align: right;\n",
       "    }\n",
       "</style>\n",
       "<table border=\"1\" class=\"dataframe\">\n",
       "  <thead>\n",
       "    <tr style=\"text-align: right;\">\n",
       "      <th></th>\n",
       "      <th>0</th>\n",
       "      <th>1</th>\n",
       "    </tr>\n",
       "  </thead>\n",
       "  <tbody>\n",
       "    <tr>\n",
       "      <th>0</th>\n",
       "      <td>5975</td>\n",
       "      <td>181</td>\n",
       "    </tr>\n",
       "    <tr>\n",
       "      <th>1</th>\n",
       "      <td>1501</td>\n",
       "      <td>4723</td>\n",
       "    </tr>\n",
       "  </tbody>\n",
       "</table>\n",
       "</div>"
      ],
      "text/plain": [
       "      0     1\n",
       "0  5975   181\n",
       "1  1501  4723"
      ]
     },
     "execution_count": 296,
     "metadata": {},
     "output_type": "execute_result"
    },
    {
     "data": {
      "image/png": "[encoded data removed]",
      "text/plain": [
       "<Figure size 640x480 with 2 Axes>"
      ]
     },
     "metadata": {},
     "output_type": "display_data"
    }
   ],
   "source": [
    "# performance evaluation metric using confusion matrix.\n",
    "\n",
    "# Import packages and modules.\n",
    "from sklearn.metrics import confusion_matrix,plot_confusion_matrix\n",
    "\n",
    "\n",
    "\n",
    "# visualize Confusion matrix \n",
    "matrix = plot_confusion_matrix(pip,X_test,y_test)\n",
    "\n",
    "# Confusion matrix title.\n",
    "matrix.ax_.set_title(\"Confusion matrix\", color = \"Black\")\n",
    "\n",
    "# Confusion matrix result\n",
    "pd.DataFrame(matrix.confusion_matrix)"
   ]
  },
  {
   "cell_type": "code",
   "execution_count": null,
   "id": "f5442dae",
   "metadata": {},
   "outputs": [],
   "source": []
  },
  {
   "cell_type": "code",
   "execution_count": null,
   "id": "d8aeeff7",
   "metadata": {},
   "outputs": [],
   "source": []
  },
  {
   "cell_type": "markdown",
   "id": "3dd7decd",
   "metadata": {},
   "source": [
    "### Check model accuracy: by use random data  and pathing through the pipline to confirm output status."
   ]
  },
  {
   "cell_type": "code",
   "execution_count": 263,
   "id": "57e39940",
   "metadata": {},
   "outputs": [
    {
     "data": {
      "text/plain": [
       "9546"
      ]
     },
     "execution_count": 263,
     "metadata": {},
     "output_type": "execute_result"
    }
   ],
   "source": [
    "import random\n",
    "\n",
    "random.seed(100)\n",
    "\n",
    "rand_index = random.randint(0,len(df))\n",
    "rand_index"
   ]
  },
  {
   "cell_type": "code",
   "execution_count": 253,
   "id": "e802ddd9",
   "metadata": {},
   "outputs": [
    {
     "name": "stdout",
     "output_type": "stream",
     "text": [
      "1\n"
     ]
    }
   ],
   "source": [
    "print(df[\"rate\"].loc[9546])"
   ]
  },
  {
   "cell_type": "code",
   "execution_count": 257,
   "id": "f9fd3713",
   "metadata": {},
   "outputs": [],
   "source": [
    "# drop rate as it our predictor feature.\n",
    "New_Record = df.drop(\"rate\",axis = 1).loc[rand_index]"
   ]
  },
  {
   "cell_type": "code",
   "execution_count": 258,
   "id": "8bda6bae",
   "metadata": {},
   "outputs": [],
   "source": [
    "# reshape new record to fit scaled shape.\n",
    "New_Record = New_Record.values.reshape(1,-1)"
   ]
  },
  {
   "cell_type": "code",
   "execution_count": 259,
   "id": "846ecb10",
   "metadata": {},
   "outputs": [
    {
     "data": {
      "text/plain": [
       "array([1], dtype=int64)"
      ]
     },
     "execution_count": 259,
     "metadata": {},
     "output_type": "execute_result"
    }
   ],
   "source": [
    "# predict scaled new feature.\n",
    "pip.predict(New_Record)"
   ]
  },
  {
   "cell_type": "markdown",
   "id": "487fd1b8",
   "metadata": {},
   "source": [
    "# Save Pipline"
   ]
  },
  {
   "cell_type": "code",
   "execution_count": 261,
   "id": "b0a3c41d",
   "metadata": {},
   "outputs": [],
   "source": [
    "# Import module\n",
    "import pickle\n",
    "import joblib\n",
    "import bz2\n",
    "import gzip\n",
    "\n",
    "\n",
    "with gzip.open(\"model.pkl.gz\", \"wb\") as file:\n",
    "    pickle.dump(pip, file)"
   ]
  },
  {
   "cell_type": "code",
   "execution_count": 262,
   "id": "7c26f13d",
   "metadata": {},
   "outputs": [
    {
     "data": {
      "text/plain": [
       "['model.joblib']"
      ]
     },
     "execution_count": 262,
     "metadata": {},
     "output_type": "execute_result"
    }
   ],
   "source": [
    "import joblib\n",
    "joblib.dump(pip, \"model.joblib\",compress= 9)"
   ]
  },
  {
   "cell_type": "code",
   "execution_count": null,
   "id": "06f228f1",
   "metadata": {},
   "outputs": [],
   "source": []
  }
 ],
 "metadata": {
  "kernelspec": {
   "display_name": "Python 3 (ipykernel)",
   "language": "python",
   "name": "python3"
  },
  "language_info": {
   "codemirror_mode": {
    "name": "ipython",
    "version": 3
   },
   "file_extension": ".py",
   "mimetype": "text/x-python",
   "name": "python",
   "nbconvert_exporter": "python",
   "pygments_lexer": "ipython3",
   "version": "3.9.13"
  }
 },
 "nbformat": 4,
 "nbformat_minor": 5
}
